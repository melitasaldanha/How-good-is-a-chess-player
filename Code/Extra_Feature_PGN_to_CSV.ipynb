{
 "cells": [
  {
   "cell_type": "markdown",
   "metadata": {
    "colab_type": "text",
    "id": "R2brQgjuWajw"
   },
   "source": [
    "# Libraries and Mounting"
   ]
  },
  {
   "cell_type": "code",
   "execution_count": null,
   "metadata": {
    "colab": {},
    "colab_type": "code",
    "id": "VuhdOV1SY_LF"
   },
   "outputs": [],
   "source": [
    "from google.colab import drive\n",
    "import pandas as pd\n",
    "import chess.pgn\n",
    "import chess\n",
    "import chess.engine\n",
    "import pprint\n",
    "from datetime import datetime"
   ]
  },
  {
   "cell_type": "code",
   "execution_count": null,
   "metadata": {
    "colab": {
     "base_uri": "https://localhost:8080/",
     "height": 34
    },
    "colab_type": "code",
    "id": "rELjWz9KKmMK",
    "outputId": "2ea30e65-f916-4094-fcc9-2a4e6213fa7d"
   },
   "outputs": [
    {
     "name": "stdout",
     "output_type": "stream",
     "text": [
      "Requirement already satisfied: python-chess==0.28.3 in /usr/local/lib/python3.6/dist-packages (0.28.3)\n"
     ]
    }
   ],
   "source": [
    "!pip install python-chess==0.28.3 #required For SimpleEninge for Board evaulation"
   ]
  },
  {
   "cell_type": "code",
   "execution_count": null,
   "metadata": {
    "colab": {
     "base_uri": "https://localhost:8080/",
     "height": 125
    },
    "colab_type": "code",
    "id": "i8GhAb-nZTq_",
    "outputId": "09caec7f-6019-496d-ae05-e120811d795f"
   },
   "outputs": [
    {
     "name": "stdout",
     "output_type": "stream",
     "text": [
      "Go to this URL in a browser: https://accounts.google.com/o/oauth2/auth?client_id=947318989803-6bn6qk8qdgf4n4g3pfee6491hc0brc4i.apps.googleusercontent.com&redirect_uri=urn%3aietf%3awg%3aoauth%3a2.0%3aoob&response_type=code&scope=email%20https%3a%2f%2fwww.googleapis.com%2fauth%2fdocs.test%20https%3a%2f%2fwww.googleapis.com%2fauth%2fdrive%20https%3a%2f%2fwww.googleapis.com%2fauth%2fdrive.photos.readonly%20https%3a%2f%2fwww.googleapis.com%2fauth%2fpeopleapi.readonly\n",
      "\n",
      "Enter your authorization code:\n",
      "··········\n",
      "Mounted at /content/drive\n"
     ]
    }
   ],
   "source": [
    "drive.mount('/content/drive')"
   ]
  },
  {
   "cell_type": "code",
   "execution_count": null,
   "metadata": {
    "colab": {
     "base_uri": "https://localhost:8080/",
     "height": 34
    },
    "colab_type": "code",
    "id": "6GpASMevZ-oZ",
    "outputId": "b92eb2e3-4851-44bd-da21-a9c558cf7bf9"
   },
   "outputs": [
    {
     "name": "stdout",
     "output_type": "stream",
     "text": [
      "/content/drive/Shared drives/DSF_Project\n"
     ]
    }
   ],
   "source": [
    "cd '/content/drive/Shared drives/DSF_Project'"
   ]
  },
  {
   "cell_type": "markdown",
   "metadata": {
    "colab_type": "text",
    "id": "SL01LEZ4jLEN"
   },
   "source": [
    "# StockFish Engine"
   ]
  },
  {
   "cell_type": "code",
   "execution_count": null,
   "metadata": {
    "colab": {},
    "colab_type": "code",
    "id": "pbHMz3rYjJDq"
   },
   "outputs": [],
   "source": [
    "#If Engine has not been compiled\n",
    "\n",
    "# cd '/content/drive/Shared drives/DSF_Project/StockFish/stockfish-10-linux/src'"
   ]
  },
  {
   "cell_type": "code",
   "execution_count": null,
   "metadata": {
    "colab": {},
    "colab_type": "code",
    "id": "NivWbCN3jJDt"
   },
   "outputs": [],
   "source": [
    "#If Engine has not been compiled\n",
    "\n",
    "# !make build ARCH=x86-64 "
   ]
  },
  {
   "cell_type": "code",
   "execution_count": null,
   "metadata": {
    "colab": {},
    "colab_type": "code",
    "id": "HfTIAbPLjJDv"
   },
   "outputs": [],
   "source": [
    "#If Engine has not been compiled\n",
    "\n",
    "# cd '/content/drive/Shared drives/DSF_Project'"
   ]
  },
  {
   "cell_type": "code",
   "execution_count": null,
   "metadata": {
    "colab": {},
    "colab_type": "code",
    "id": "ujU41ytrjJDx"
   },
   "outputs": [],
   "source": [
    "#To give the permession \n",
    "\n",
    "!chmod +x StockFish/stockfish-10-linux/Linux/stockfish_10_x64"
   ]
  },
  {
   "cell_type": "markdown",
   "metadata": {
    "colab_type": "text",
    "id": "fJ0f4FJJWhJd"
   },
   "source": [
    "# PGN to CSV"
   ]
  },
  {
   "cell_type": "markdown",
   "metadata": {
    "colab_type": "text",
    "id": "b80-p7i979AO"
   },
   "source": [
    "## Functions"
   ]
  },
  {
   "cell_type": "markdown",
   "metadata": {
    "colab_type": "text",
    "id": "xYK48_we8O9B"
   },
   "source": [
    "### Board Evaluation"
   ]
  },
  {
   "cell_type": "code",
   "execution_count": null,
   "metadata": {
    "colab": {},
    "colab_type": "code",
    "id": "h5Eo28tg77y0"
   },
   "outputs": [],
   "source": [
    "def board_eval(board):\n",
    "  engine = chess.engine.SimpleEngine.popen_uci(\"StockFish/stockfish-10-linux/Linux/stockfish_10_x64\")\n",
    "  info = engine.analyse(board, chess.engine.Limit(time=0.2))\n",
    "  score=info[\"score\"]\n",
    "  \n",
    "  engine.quit()\n",
    "  return score"
   ]
  },
  {
   "cell_type": "markdown",
   "metadata": {
    "colab_type": "text",
    "id": "P8KKIW0ZTR64"
   },
   "source": [
    "### Get First Two Moves For White and Black"
   ]
  },
  {
   "cell_type": "code",
   "execution_count": null,
   "metadata": {
    "colab": {},
    "colab_type": "code",
    "id": "H5YE_eFdTQgF"
   },
   "outputs": [],
   "source": [
    "def get_first_moves(moves):\n",
    "  white1=\"\"\n",
    "  black1=\"\"\n",
    "  white2=\"\"\n",
    "  black2=\"\"\n",
    "  moves_split=moves\n",
    "  moves_split=moves_split.split(',')\n",
    "  if(len(moves_split)>=4):\n",
    "    white1 = moves_split[0]\n",
    "    black1 = white1 + \",\" + moves_split[1]\n",
    "    white2 = black1 + \",\" + moves_split[2]\n",
    "    black2 = white2 + \",\" + moves_split[3]\n",
    "  else:\n",
    "    white1 = moves_split[0] if len(moves_split)>=1 else 'NaN'\n",
    "    black1 = (white1 + \",\" + moves_split[1]) if len(moves_split)>=2 else 'NaN'\n",
    "    white2 = (black1 + \",\" + moves_split[2]) if len(moves_split)>=3 else 'NaN'\n",
    "    black2 = (white2 + \",\" + moves_split[3]) if len(moves_split)>=4 else 'NaN'\n",
    "\n",
    "  return white1,black1,white2,black2"
   ]
  },
  {
   "cell_type": "markdown",
   "metadata": {
    "colab_type": "text",
    "id": "yh5iqJ9BSZyU"
   },
   "source": [
    "### Get Average Game Score"
   ]
  },
  {
   "cell_type": "code",
   "execution_count": null,
   "metadata": {
    "colab": {},
    "colab_type": "code",
    "id": "iE_wVKuURYae"
   },
   "outputs": [],
   "source": [
    "def get_game_score(game_eval):\n",
    "  early=int((25*len(game_eval))/100)\n",
    "  middle=int((75*len(game_eval))/100)\n",
    " \n",
    "  early_game_eval=0\n",
    "  middle_game_eval=0\n",
    "  end_game_eval=0\n",
    "\n",
    "  for i in range(early):\n",
    "    early_game_eval=early_game_eval+game_eval[i]\n",
    "\n",
    "  for i in range(early,middle):\n",
    "    middle_game_eval=middle_game_eval+game_eval[i]\n",
    "  \n",
    "  for i in range(middle,len(game_eval)):\n",
    "    end_game_eval=end_game_eval+game_eval[i]\n",
    "  \n",
    "  \n",
    "  early_game_eval=early_game_eval/early\n",
    "  middle_game_eval=middle_game_eval/(middle-early)\n",
    "  end_game_eval=end_game_eval/(len(game_eval)-middle)\n",
    "\n",
    "  return early_game_eval,middle_game_eval,end_game_eval"
   ]
  },
  {
   "cell_type": "markdown",
   "metadata": {
    "colab_type": "text",
    "id": "0xjlclnm8ufK"
   },
   "source": [
    "### Features From Moves and Board"
   ]
  },
  {
   "cell_type": "code",
   "execution_count": null,
   "metadata": {
    "colab": {},
    "colab_type": "code",
    "id": "9TMcxvmV9Bq1"
   },
   "outputs": [],
   "source": [
    "def get_features_from_moves_and_board(game_moves):\n",
    "  \n",
    "  moves=\"\"\n",
    "  clocks=\"\"\n",
    "  sans=\"\"\n",
    "  move_count=0\n",
    "  white_move_count=0\n",
    "  black_move_count=0\n",
    "  white_eval=0\n",
    "  black_eval=0\n",
    "  white_pawn_promote=0\n",
    "  black_pawn_promote=0\n",
    "  white_king_castling=False\n",
    "  black_king_castling=False\n",
    "  white_queen_castling=False\n",
    "  black_queen_castling=False\n",
    "  white_capture=0\n",
    "  black_capture=0\n",
    "  white_checks=0\n",
    "  black_checks=0\n",
    "  game_eval=[]\n",
    "  white_start_time=0\n",
    "  black_start_time=0\n",
    "  white_end_time=0\n",
    "  black_end_time=0\n",
    "  ref_time=datetime.strptime('0:00:00', '%H:%M:%S')\n",
    "  white_play_time='NaN'\n",
    "  black_play_time='NaN'\n",
    "  white_time_remaining='NaN'\n",
    "  black_time_remaining='NaN'\n",
    "  white_eval=0\n",
    "  black_eval=0\n",
    "  early_game_eval,middle_game_eval,end_game_eval=0,0,0\n",
    "\n",
    "  white_move_type={1:0,2:0,3:0,4:0,5:0,6:0}\n",
    "  black_move_type={1:0,2:0,3:0,4:0,5:0,6:0}\n",
    "\n",
    "  #Begin Loop\n",
    "  while game_moves.variations:\n",
    "      \n",
    "    #Get Clock      \n",
    "    clock_comment=game_moves.variation(0).comment\n",
    "\n",
    "    clock=clock_comment.split(' ')\n",
    "    if(len(clock)>1 and ('clk' in clock_comment)):\n",
    "      if 'eval' in clock_comment:\n",
    "        clock=clock[3][:-1]\n",
    "      else:\n",
    "        clock=clock[1][:-1]\n",
    "\n",
    "      clocks=clocks+clock+\",\"\n",
    "\n",
    "    #Get SAN\n",
    "    san=game_moves.variation(0).san()\n",
    "    sans=sans+san+\",\"\n",
    "\n",
    "    #Get nag\n",
    "    nag=game_moves.variation(0).nags\n",
    "\n",
    "    #Get Moves\n",
    "    move=game_moves.variation(0).move      \n",
    "    moves=moves+(str(move))+\",\"\n",
    "\n",
    "    #Get Board Eval for White and Black\n",
    "    board=game_moves.board()\n",
    "    score=board_eval(board)\n",
    "    \n",
    "    if(score.is_mate()):\n",
    "      score=str(score)\n",
    "      score=score[1:]\n",
    "      score=int(score)\n",
    "    else:\n",
    "      score=int(str(score))\n",
    "\n",
    "    if board.turn:\n",
    "      white_eval=white_eval+score #Get White Eval\n",
    "      white_move_count +=1  #Get White Number of Moves\n",
    "      white_end_time=clock\n",
    "      if move.promotion:\n",
    "        white_pawn_promote+=1 #Get White Pawn Promotions\n",
    "      if board.is_kingside_castling(move):\n",
    "        white_king_castling=True  #Get White King Castling\n",
    "      if board.is_queenside_castling(move):\n",
    "        white_queen_castling=True #Get White Queen Castling\n",
    "      if board.is_capture(move):\n",
    "        white_capture+=1 #Get White Captures\n",
    "      if board.is_check():\n",
    "        white_checks+=1 #Get White Checks\n",
    "      if nag:\n",
    "        move_type=list(nag)[0]\n",
    "        white_move_type[move_type] +=1 #Get Types of Move For White --- Brilliant/Blunder/etc\n",
    "      if move_count==0:\n",
    "         white_start_time=clock\n",
    "         move_count+=1       \n",
    "    \n",
    "    else:\n",
    "      black_eval=black_eval+score #Get Black Eval\n",
    "      black_move_count +=1  #Get Black Number Moves\n",
    "      black_end_time=clock\n",
    "      if move.promotion:\n",
    "        black_pawn_promote+=1 #Get Black Pawn Promotions\n",
    "      if board.is_kingside_castling(move):\n",
    "        black_king_castling=True #Get Black King Castling\n",
    "      if board.is_queenside_castling(move):\n",
    "        black_queen_castling=True #Get Black Queen Castling\n",
    "      if board.is_capture(move):\n",
    "        black_capture+=1 #Get Black Captures\n",
    "      if board.is_check():\n",
    "        black_checks+=1 #Get Black Checks\n",
    "      if nag:\n",
    "        move_type=list(nag)[0]\n",
    "        black_move_type[move_type] +=1 #Get Types of Move For Black --- Brilliant/Blunder/etc\n",
    "      if move_count==1:\n",
    "         black_start_time=clock\n",
    "\n",
    "    game_eval.append(score) #For Game Score\n",
    "\n",
    "\n",
    "    game_moves=game_moves.variation(0)\n",
    "    \n",
    "  # End of Loop\n",
    "  \n",
    "\n",
    "  #Total Number of Moves\n",
    "  move_count = len(game_eval)\n",
    "  \n",
    "  if(move_count>=4):                                                #Significant only for moves more than 3\n",
    "    if 'clk' in clock_comment:                                                \n",
    "      #White Play Time\n",
    "      white_start_time=datetime.strptime(white_start_time, '%H:%M:%S')\n",
    "      white_end_time=datetime.strptime(white_end_time, '%H:%M:%S')\n",
    "      white_play_time=white_start_time-white_end_time\n",
    "      white_play_time=white_play_time.total_seconds()\n",
    "\n",
    "      \n",
    "      #Black Play Time\n",
    "      black_start_time=datetime.strptime(black_start_time, '%H:%M:%S')\n",
    "      black_end_time=datetime.strptime(black_end_time, '%H:%M:%S')\n",
    "      black_play_time=black_start_time-black_end_time\n",
    "      black_play_time=black_play_time.total_seconds()\n",
    "\n",
    "      #White Time Remaining\n",
    "      white_time_remaining=(white_end_time-ref_time).total_seconds()\n",
    "      \n",
    "      #Black Time Remaining\n",
    "      black_time_remaining=(black_end_time-ref_time).total_seconds()\n",
    "\n",
    "    #Get Average Eval\n",
    "    white_eval=white_eval/(white_move_count)\n",
    "    black_eval=white_eval/(black_move_count)\n",
    "\n",
    "    #Get Average Score at Three different stages\n",
    "    early_game_eval,middle_game_eval,end_game_eval = get_game_score(game_eval)\n",
    "\n",
    "  \n",
    "  #Get Moves,Sans and Clock\n",
    "  moves = moves[:-1]\n",
    "  clocks = clocks[:-1]\n",
    "  sans = sans[:-1]\n",
    "\n",
    "  #Get Final Board in FEN\n",
    "  end_board_fen=game_moves.board().fen()\n",
    "\n",
    "  result={\"moves\":moves,\n",
    "          \"total_moves\":move_count,\n",
    "          \"white_eval\":white_eval,\n",
    "          \"black_eval\":black_eval,\n",
    "          \"white_moves\":white_move_count,\n",
    "          \"black_moves\":black_move_count,\n",
    "          \"clocks\":clocks,\n",
    "          \"sans\":sans,\n",
    "          \"end_board_fen\":end_board_fen,\n",
    "          \"early_game_eval\":early_game_eval,\n",
    "          \"middle_game_eval\":middle_game_eval,\n",
    "          \"end_game_eval\":end_game_eval,\n",
    "          \"black_pawn_promote\":black_pawn_promote,\n",
    "          \"black_king_castling\":black_king_castling,\n",
    "          \"black_queen_castling\":black_queen_castling,\n",
    "          \"black_capture\":black_capture,\n",
    "          \"black_checks\":black_checks,\n",
    "          \"white_pawn_promote\":white_pawn_promote,\n",
    "          \"white_king_castling\":white_king_castling,\n",
    "          \"white_queen_castling\":white_queen_castling,\n",
    "          \"white_capture\":white_capture,\n",
    "          \"white_checks\":white_checks,\n",
    "          \"black_GOOD_MOVE\":black_move_type[1],\n",
    "          \"black_MISTAKE\":black_move_type[2],\n",
    "          \"black_BRILLIANT_MOVE\":black_move_type[3],\n",
    "          \"black_BLUNDER\":black_move_type[4],\n",
    "          \"black_SPECULATIVE_MOVE\":black_move_type[5],\n",
    "          \"black_DUBIOUS_MOVE\":black_move_type[6],\n",
    "          \"white_GOOD_MOVE\":white_move_type[1],\n",
    "          \"white_MISTAKE\":white_move_type[2],\n",
    "          \"white_BRILLIANT_MOVE\":white_move_type[3],\n",
    "          \"white_BLUNDER\":white_move_type[4],\n",
    "          \"white_SPECULATIVE_MOVE\":white_move_type[5],\n",
    "          \"white_DUBIOUS_MOVE\":white_move_type[6],\n",
    "          \"white_play_time\":white_play_time,\n",
    "          \"black_play_time\":black_play_time,\n",
    "          \"white_time_remaining\":white_time_remaining,\n",
    "          \"black_time_remaining\":black_time_remaining\n",
    "          }\n",
    "\n",
    "  return result"
   ]
  },
  {
   "cell_type": "markdown",
   "metadata": {
    "colab_type": "text",
    "id": "3sFJJ_CzajN5"
   },
   "source": [
    "### Get Start Game"
   ]
  },
  {
   "cell_type": "code",
   "execution_count": null,
   "metadata": {
    "colab": {},
    "colab_type": "code",
    "id": "Z9BiyYxcaiV2"
   },
   "outputs": [],
   "source": [
    "def get_start_game(start,pgn):\n",
    "  for i in range(start):\n",
    "    game=chess.pgn.read_game(pgn)\n",
    "  \n",
    "  return i,game"
   ]
  },
  {
   "cell_type": "markdown",
   "metadata": {
    "colab_type": "text",
    "id": "H5ieGH307Zug"
   },
   "source": [
    "## CSV Extraction"
   ]
  },
  {
   "cell_type": "code",
   "execution_count": null,
   "metadata": {
    "colab": {},
    "colab_type": "code",
    "id": "HczY5FM7-n2-"
   },
   "outputs": [],
   "source": [
    "year='2017'\n",
    "month='09'\n",
    "start=5001\n",
    "end=6000\n",
    "file_path_PGN=\"dataset/Standard/PGN/\"+year+\"/lichess_db_standard_rated_\"+year+\"-\"+month\n",
    "file_path_CSV=\"dataset/Standard/CSV/\"+year+\"/lichess_db_standard_rated_\"+year+\"-\"+month"
   ]
  },
  {
   "cell_type": "code",
   "execution_count": null,
   "metadata": {
    "colab": {
     "base_uri": "https://localhost:8080/",
     "height": 52
    },
    "colab_type": "code",
    "id": "hymKaDdS_Phy",
    "outputId": "1d471e3b-0c01-4092-a3dd-a0f287572489"
   },
   "outputs": [
    {
     "name": "stdout",
     "output_type": "stream",
     "text": [
      "CPU times: user 25min 7s, sys: 6min 10s, total: 31min 18s\n",
      "Wall time: 9h 50min 44s\n"
     ]
    }
   ],
   "source": [
    "%%time\n",
    "import numpy as np\n",
    "pgn = open(file_path_PGN+\".pgn\")\n",
    "\n",
    "k,game=get_start_game(start,pgn)\n",
    "# game=chess.pgn.read_game(pgn)\n",
    "i=0\n",
    "cols=[]\n",
    "cols_game=[]\n",
    "while game!=None and k<end:\n",
    "  #Get All features based on Moves and Board\n",
    "  result=get_features_from_moves_and_board(game)\n",
    "\n",
    "  #Get First Moves of White and Black\n",
    "  white1,black1,white2,black2=get_first_moves(result['moves'])\n",
    "\n",
    "  if i==0:\n",
    "    for col in game.headers:\n",
    "      cols.append(col)\n",
    "    cols = ['ID'] + cols\n",
    "    cols_game=cols.copy()\n",
    "\n",
    "  row=[game.headers[x] if x in game.headers else \"NaN\" for x in cols_game]\n",
    "  row[0]=k;\n",
    "  \n",
    "  if(i==0):\n",
    "    for key in result:\n",
    "      cols.append(key)\n",
    "    df=pd.DataFrame(columns=cols)    \n",
    "  \n",
    "  for key,value in result.items():\n",
    "    row.append(value)\n",
    "\n",
    "  event=row[1].split(' ')\n",
    "  row[1]=event[1]\n",
    "  df.loc[i]=row\n",
    "  i +=1\n",
    "  k +=1\n",
    "  # print(i)\n",
    "  # print(\"Game Count: \",k)\n",
    "  # pprint.pprint(result)\n",
    "\n",
    "  game=chess.pgn.read_game(pgn)"
   ]
  },
  {
   "cell_type": "code",
   "execution_count": null,
   "metadata": {
    "colab": {},
    "colab_type": "code",
    "id": "WU5jZDkZUGh0"
   },
   "outputs": [],
   "source": [
    "df.to_csv(file_path_CSV+\"_PGN_to_CSV_\"+str(start)+\"_to_\"+str(end)+\".csv\",index=False)"
   ]
  },
  {
   "cell_type": "markdown",
   "metadata": {
    "colab_type": "text",
    "id": "y8ggbFu6xim5"
   },
   "source": [
    "# Board Eval"
   ]
  },
  {
   "cell_type": "code",
   "execution_count": null,
   "metadata": {
    "colab": {},
    "colab_type": "code",
    "id": "tkBfdmMBxnW9"
   },
   "outputs": [],
   "source": [
    "# def getBoardScore(board):\n",
    "#   engine = chess.engine.SimpleEngine.popen_uci(\"StockFish/stockfish-10-linux/Linux/stockfish_10_x64\")\n",
    "#   info = engine.analyse(board, chess.engine.Limit(time=0.5))\n",
    "#   score=info[\"score\"]\n",
    "#   print(info)\n",
    "#   # print(score.turn)\n",
    "\n",
    "#   # info = engine.analyse(board, chess.engine.Limit(depth=40))\n",
    "#   # score_depth=info[\"score\"]\n",
    "  \n",
    "#   engine.quit()\n",
    "#   return score"
   ]
  },
  {
   "cell_type": "code",
   "execution_count": null,
   "metadata": {
    "colab": {},
    "colab_type": "code",
    "id": "6DzhHU-XxnXB"
   },
   "outputs": [],
   "source": [
    "# %%time\n",
    "# pgn = open(file_path_PGN+\".pgn\")\n",
    "# # print(file_path_PGN)"
   ]
  },
  {
   "cell_type": "code",
   "execution_count": null,
   "metadata": {
    "colab": {},
    "colab_type": "code",
    "id": "qKB3doM66C2l"
   },
   "outputs": [],
   "source": [
    "# game=chess.pgn.read_game(pgn)\n",
    "# print(game)"
   ]
  },
  {
   "cell_type": "code",
   "execution_count": null,
   "metadata": {
    "colab": {},
    "colab_type": "code",
    "id": "zLM7YlWeZtZ9"
   },
   "outputs": [],
   "source": [
    "# game2=game"
   ]
  },
  {
   "cell_type": "code",
   "execution_count": null,
   "metadata": {
    "colab": {},
    "colab_type": "code",
    "id": "XhU6Ud2E6bbB"
   },
   "outputs": [],
   "source": [
    "# i=0\n",
    "# nag_t=0\n",
    "# # game=chess.pgn.read_game(pgn)\n",
    "# # game=game2\n",
    "# test={1:0,2:0,3:0,4:0,5:0,6:0}\n",
    "# clocks=\"\"\n",
    "\n",
    "# print(game)\n",
    "# while game.variations:\n",
    "#   # print(game_moves.move)\n",
    "#   board=game.board()\n",
    "\n",
    "#   nag=game.variation(0).nags\n",
    "#   # print(board.turn)\n",
    "#   # print(i+1)\n",
    "#   # print(\"Score:\",str(score))\n",
    "#   # print(game.comment)\n",
    "#   # print(i)\n",
    "#   # print(score.is_mate())\n",
    "#   # print(i+int(str(score)))\n",
    "#   # if nag:\n",
    "#   #     print(nag)\n",
    "#   #     move_type=list(nag)[0]\n",
    "#   #     print(move_type)\n",
    "#   #     test[move_type] +=1 #Get Types of Move For Black --- Brilliant/Blunder/etc\n",
    "#   # eval_present=False\n",
    "#   clock_comment=game.variation(0).comment\n",
    "#   # clock_comment=\"\"\n",
    "#   clock=clock_comment.split(' ')\n",
    "#   print(\"sd\",clock)\n",
    "#   if(len(clock)>1):\n",
    "#     if 'eval' in clock_comment:\n",
    "#       clock=clock[3][:-1]\n",
    "#     else:\n",
    "#       clock=clock[1][:-1]\n",
    "  \n",
    "#   print(type(clock))\n",
    "#   clocks=clocks+clock+\",\"\n",
    "#   # print(clocks)\n",
    "\n",
    "#   # if nag:\n",
    "#   #   print(nag)\n",
    "#   #   comment=game.variation(0).comment\n",
    "#   #   print(comment)\n",
    "#   #   nag_t=nag\n",
    "\n",
    "\n",
    "#   # print(sans)\n",
    "#   # comment=game.variation(0).comment\n",
    "#   # print(comment)\n",
    "#   # if move.promotion:\n",
    "#   #   print(sans)\n",
    "#   #   print(move)\n",
    "#   #   print(move.promotion)\n",
    "\n",
    "#   # if board.is_check():\n",
    "#   #   print(board.turn)\n",
    "#   #   print(sans)\n",
    "#   #   print(\"Captured\\n\")5\n",
    "#   # print(nags)\n",
    "#   game=game.variation(0)\n",
    "#   i=i+1"
   ]
  },
  {
   "cell_type": "code",
   "execution_count": null,
   "metadata": {
    "colab": {},
    "colab_type": "code",
    "id": "Fa2UCUBuB9mR"
   },
   "outputs": [],
   "source": [
    "# print(test)\n",
    "# for key in test:\n",
    "#   print(key)"
   ]
  },
  {
   "cell_type": "code",
   "execution_count": null,
   "metadata": {
    "colab": {},
    "colab_type": "code",
    "id": "bzeVTiZy3EJI"
   },
   "outputs": [],
   "source": [
    "# from datetime import datetime\n",
    "\n",
    "# test='0:01:00'\n",
    "# test2='0:00:59'\n",
    "# date = datetime.strptime(test, '%H:%M:%S')\n",
    "# date2 = datetime.strptime(test2, '%H:%M:%S')\n",
    "# # date=date.time().isoformat()\n",
    "# # date2=date2.time().isoformat()\n",
    "# ref_time=datetime.strptime('0:00:00', '%H:%M:%S')\n",
    "# print(ref_time)\n",
    "# print(date)\n",
    "# a=date-ref_time\n",
    "# print((date-ref_time).total_seconds())\n",
    "# print(date.second)\n",
    "# # print(type(date2))\n",
    "# ans=date-date2\n",
    "# # a=datetime.timedelta(hours=ans.tm_hour,minutes=ans.tm_min,seconds=ans.tm_sec).total_seconds()\n",
    "# print(type(ans))\n",
    "# print(type(ans.total_seconds()))"
   ]
  },
  {
   "cell_type": "code",
   "execution_count": null,
   "metadata": {
    "colab": {},
    "colab_type": "code",
    "id": "-2VREvWrUVPC"
   },
   "outputs": [],
   "source": [
    "# t=list(nag_t)[0]\n",
    "# print(t)\n",
    "# # print(t[0])\n",
    "# k=t\n",
    "# d={6:0}\n"
   ]
  },
  {
   "cell_type": "code",
   "execution_count": null,
   "metadata": {
    "colab": {},
    "colab_type": "code",
    "id": "IxH7KgNQkE2-"
   },
   "outputs": [],
   "source": [
    "\n",
    "# d[k]+=1\n",
    "# print(d[k])"
   ]
  },
  {
   "cell_type": "markdown",
   "metadata": {
    "colab_type": "text",
    "id": "lf7M-Z6QWqd-"
   },
   "source": [
    "# Testing"
   ]
  },
  {
   "cell_type": "code",
   "execution_count": null,
   "metadata": {
    "colab": {},
    "colab_type": "code",
    "id": "5Hj-Nq9gbt12"
   },
   "outputs": [],
   "source": [
    "# year='2019'\n",
    "# month='10'\n",
    "# limit=2\n",
    "# file_path_PGN=\"dataset/Standard/PGN/\"+year+\"/lichess_db_standard_rated_\"+year+\"-\"+month\n",
    "# file_path_CSV=\"dataset/Standard/CSV/\"+year+\"/lichess_db_standard_rated_\"+year+\"-\"+month"
   ]
  },
  {
   "cell_type": "code",
   "execution_count": null,
   "metadata": {
    "colab": {},
    "colab_type": "code",
    "id": "0kNlkIlfxVA0"
   },
   "outputs": [],
   "source": [
    "# %%time\n",
    "# pgn = open(file_path_PGN+\".pgn\")\n",
    "\n",
    "# game=chess.pgn.read_game(pgn)\n",
    "# i=0\n",
    "# leng=[]\n",
    "# nag_c=[]\n",
    "# while game!=None:\n",
    "#   game_moves=game\n",
    "#   j=0\n",
    "#   while game_moves.variations:\n",
    "#     nag=game_moves.variation(0).nags\n",
    "#     game_moves=game_moves.variation(0)\n",
    "#     if nag:\n",
    "#       nag_c.append(nag)\n",
    "#       print(nag)\n",
    "#       print(i)\n",
    "\n",
    "#     j+=1\n",
    "#   i=i+1\n",
    "#   leng.append(i)\n",
    "#   game=chess.pgn.read_game(pgn)\n"
   ]
  }
 ],
 "metadata": {
  "colab": {
   "collapsed_sections": [
    "SL01LEZ4jLEN",
    "y8ggbFu6xim5",
    "lf7M-Z6QWqd-"
   ],
   "name": "Extra_Feature_PGN_to_CSV.ipynb",
   "provenance": []
  },
  "kernelspec": {
   "display_name": "Python 3",
   "language": "python",
   "name": "python3"
  },
  "language_info": {
   "codemirror_mode": {
    "name": "ipython",
    "version": 3
   },
   "file_extension": ".py",
   "mimetype": "text/x-python",
   "name": "python",
   "nbconvert_exporter": "python",
   "pygments_lexer": "ipython3",
   "version": "3.5.3"
  }
 },
 "nbformat": 4,
 "nbformat_minor": 1
}
