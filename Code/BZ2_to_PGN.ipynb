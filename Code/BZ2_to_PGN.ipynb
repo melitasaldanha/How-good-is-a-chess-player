{
 "cells": [
  {
   "cell_type": "code",
   "execution_count": null,
   "metadata": {
    "colab": {},
    "colab_type": "code",
    "id": "VuhdOV1SY_LF"
   },
   "outputs": [],
   "source": [
    "from google.colab import drive\n",
    "import requests\n",
    "import bz2"
   ]
  },
  {
   "cell_type": "code",
   "execution_count": null,
   "metadata": {
    "colab": {
     "base_uri": "https://localhost:8080/",
     "height": 125
    },
    "colab_type": "code",
    "id": "i8GhAb-nZTq_",
    "outputId": "08a63078-c7f3-4816-bc47-1b1bc73a4dc0"
   },
   "outputs": [
    {
     "name": "stdout",
     "output_type": "stream",
     "text": [
      "Go to this URL in a browser: https://accounts.google.com/o/oauth2/auth?client_id=947318989803-6bn6qk8qdgf4n4g3pfee6491hc0brc4i.apps.googleusercontent.com&redirect_uri=urn%3Aietf%3Awg%3Aoauth%3A2.0%3Aoob&scope=email%20https%3A%2F%2Fwww.googleapis.com%2Fauth%2Fdocs.test%20https%3A%2F%2Fwww.googleapis.com%2Fauth%2Fdrive%20https%3A%2F%2Fwww.googleapis.com%2Fauth%2Fdrive.photos.readonly%20https%3A%2F%2Fwww.googleapis.com%2Fauth%2Fpeopleapi.readonly&response_type=code\n",
      "\n",
      "Enter your authorization code:\n",
      "··········\n",
      "Mounted at /content/drive\n"
     ]
    }
   ],
   "source": [
    "drive.mount('/content/drive')"
   ]
  },
  {
   "cell_type": "code",
   "execution_count": null,
   "metadata": {
    "colab": {
     "base_uri": "https://localhost:8080/",
     "height": 34
    },
    "colab_type": "code",
    "id": "6GpASMevZ-oZ",
    "outputId": "99f98a3a-a221-4a4c-d3ca-e4c34f17bb33"
   },
   "outputs": [
    {
     "name": "stdout",
     "output_type": "stream",
     "text": [
      "/content/drive/Shared drives/DSF_Project/dataset\n"
     ]
    }
   ],
   "source": [
    "cd '/content/drive/Shared drives/DSF_Project/dataset'"
   ]
  },
  {
   "cell_type": "code",
   "execution_count": null,
   "metadata": {
    "colab": {},
    "colab_type": "code",
    "id": "MTIp4ErsTDxA"
   },
   "outputs": [],
   "source": [
    "month=[\"%.2d\" % i for i in range(1,13)]\n",
    "# print(month)\n",
    "# for mon in month:\n",
    "#   print(str(mon))"
   ]
  },
  {
   "cell_type": "code",
   "execution_count": null,
   "metadata": {
    "colab": {},
    "colab_type": "code",
    "id": "xjkMdZhlTK9B"
   },
   "outputs": [],
   "source": [
    "%%time\n",
    "for mon in month:\n",
    "  filepath=\"https://database.lichess.org/standard/lichess_db_standard_rated_2013-\"+mon+\".pgn.bz2\"\n",
    "  newfilepath=\"Standard/BZ2/2013/lichess_db_standard_rated_2013-\"+mon+\".pgn.bz2\"\n",
    "\n",
    "  file_url = filepath\n",
    "\n",
    "  print(file_url)\n",
    "  r = requests.get(file_url, stream = True)  \n",
    "\n",
    "  with open(newfilepath, \"wb\") as file:  \n",
    "      for block in r.iter_content(chunk_size = 1024): \n",
    "          if block:  \n",
    "              file.write(block)\n",
    "  print(newfilepath)    "
   ]
  },
  {
   "cell_type": "code",
   "execution_count": null,
   "metadata": {
    "colab": {},
    "colab_type": "code",
    "id": "JEYnLtNPcXWi"
   },
   "outputs": [],
   "source": [
    "month_extract=[\"%.2d\" % i for i in range(1,13)]"
   ]
  },
  {
   "cell_type": "code",
   "execution_count": null,
   "metadata": {
    "colab": {
     "base_uri": "https://localhost:8080/",
     "height": 265
    },
    "colab_type": "code",
    "id": "92AEKSESaKk2",
    "outputId": "ec3b862e-e90d-471d-cea9-52824bebe70d"
   },
   "outputs": [
    {
     "name": "stdout",
     "output_type": "stream",
     "text": [
      "Standard/BZ2/2013/lichess_db_standard_rated_2013-01.pgn.bz2\n",
      "Standard/BZ2/2013/lichess_db_standard_rated_2013-02.pgn.bz2\n",
      "Standard/BZ2/2013/lichess_db_standard_rated_2013-03.pgn.bz2\n",
      "Standard/BZ2/2013/lichess_db_standard_rated_2013-04.pgn.bz2\n",
      "Standard/BZ2/2013/lichess_db_standard_rated_2013-05.pgn.bz2\n",
      "Standard/BZ2/2013/lichess_db_standard_rated_2013-06.pgn.bz2\n",
      "Standard/BZ2/2013/lichess_db_standard_rated_2013-07.pgn.bz2\n",
      "Standard/BZ2/2013/lichess_db_standard_rated_2013-08.pgn.bz2\n",
      "Standard/BZ2/2013/lichess_db_standard_rated_2013-09.pgn.bz2\n",
      "Standard/BZ2/2013/lichess_db_standard_rated_2013-10.pgn.bz2\n",
      "Standard/BZ2/2013/lichess_db_standard_rated_2013-11.pgn.bz2\n",
      "Standard/BZ2/2013/lichess_db_standard_rated_2013-12.pgn.bz2\n",
      "CPU times: user 1min 55s, sys: 2.55 s, total: 1min 57s\n",
      "Wall time: 2min 20s\n"
     ]
    }
   ],
   "source": [
    "%%time\n",
    "\n",
    "for mon in month_extract:\n",
    "  path_to_zip_file='Standard/BZ2/2013/lichess_db_standard_rated_2013-'+mon+'.pgn.bz2'\n",
    "\n",
    "  with open('Standard/PGN/2013/lichess_db_standard_rated_2013-'+mon+'.pgn', 'wb') as new_file, bz2.BZ2File(path_to_zip_file, 'rb') as file:\n",
    "          for data in iter(lambda : file.read(100 * 1024), b''):\n",
    "              new_file.write(data)\n",
    "  print(path_to_zip_file)"
   ]
  }
 ],
 "metadata": {
  "accelerator": "GPU",
  "colab": {
   "collapsed_sections": [
    "I4e_vBIAaVNb"
   ],
   "name": "BZ2_to_PGN.ipynb",
   "provenance": []
  },
  "kernelspec": {
   "display_name": "Python 3",
   "language": "python",
   "name": "python3"
  },
  "language_info": {
   "codemirror_mode": {
    "name": "ipython",
    "version": 3
   },
   "file_extension": ".py",
   "mimetype": "text/x-python",
   "name": "python",
   "nbconvert_exporter": "python",
   "pygments_lexer": "ipython3",
   "version": "3.5.3"
  }
 },
 "nbformat": 4,
 "nbformat_minor": 1
}
