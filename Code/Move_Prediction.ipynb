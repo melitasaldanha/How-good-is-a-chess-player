{
 "cells": [
  {
   "cell_type": "code",
   "execution_count": null,
   "metadata": {
    "colab": {},
    "colab_type": "code",
    "id": "KHI6ujkD-qQ0"
   },
   "outputs": [],
   "source": [
    "import numpy as np\n",
    "import pandas as pd\n",
    "import chess.pgn\n",
    "from google.colab import drive \n",
    "import pickle\n",
    "import torch\n",
    "import torchvision\n",
    "import torchvision.transforms as transforms\n",
    "from torch.autograd import Variable\n",
    "import torch.nn as nn\n",
    "import torch.nn.functional as F"
   ]
  },
  {
   "cell_type": "markdown",
   "metadata": {
    "colab_type": "text",
    "id": "fa6X-27b-x8B"
   },
   "source": [
    "# Data Processing"
   ]
  },
  {
   "cell_type": "code",
   "execution_count": null,
   "metadata": {
    "colab": {
     "base_uri": "https://localhost:8080/",
     "height": 34
    },
    "colab_type": "code",
    "id": "H3lWAXqxtgOm",
    "outputId": "9a067f89-746b-4065-84e4-d26f7b90f3ed"
   },
   "outputs": [],
   "source": [
    "drive.mount('/content/drive')"
   ]
  },
  {
   "cell_type": "code",
   "execution_count": null,
   "metadata": {
    "colab": {
     "base_uri": "https://localhost:8080/",
     "height": 34
    },
    "colab_type": "code",
    "id": "kur8IdqDtkUk",
    "outputId": "d795df05-1665-4213-d888-1323eeaa5d23"
   },
   "outputs": [],
   "source": [
    "cd '/content/drive/Shared Drives/DSF_Project/dataset/Final Dataset'"
   ]
  },
  {
   "cell_type": "code",
   "execution_count": null,
   "metadata": {
    "colab": {},
    "colab_type": "code",
    "id": "TNWguYtcuKge"
   },
   "outputs": [],
   "source": [
    "df = pd.read_csv('chess_ai_preprocessed.csv')"
   ]
  },
  {
   "cell_type": "code",
   "execution_count": null,
   "metadata": {
    "colab": {},
    "colab_type": "code",
    "id": "Y3HgjRNMlqoJ"
   },
   "outputs": [],
   "source": [
    "df = df[df.Termination != 'Time forfeit']"
   ]
  },
  {
   "cell_type": "code",
   "execution_count": null,
   "metadata": {
    "colab": {},
    "colab_type": "code",
    "id": "VnsbFuQIm1Xk"
   },
   "outputs": [],
   "source": [
    "df = df.reset_index(drop=True)"
   ]
  },
  {
   "cell_type": "markdown",
   "metadata": {
    "colab_type": "text",
    "id": "vxfhFZCml4xt"
   },
   "source": [
    "## Functions\n"
   ]
  },
  {
   "cell_type": "code",
   "execution_count": null,
   "metadata": {
    "colab": {},
    "colab_type": "code",
    "id": "5_aMVxITi0Eb"
   },
   "outputs": [],
   "source": [
    "def get_board_list_item(position,board_list):\n",
    "  if position == '.':\n",
    "      board_list.extend([0, 0, 0, 0, 0, 0, 0, 0, 0, 0, 0, 0])\n",
    "  elif position == 'R':\n",
    "      board_list.extend([1, 0, 0, 0, 0, 0, 0, 0, 0, 0, 0, 0])\n",
    "  elif position == 'N':\n",
    "      board_list.extend([0, 1, 0, 0, 0, 0, 0, 0, 0, 0, 0, 0])\n",
    "  elif position == 'B':\n",
    "      board_list.extend([0, 0, 1, 0, 0, 0, 0, 0, 0, 0, 0, 0])\n",
    "  elif position == 'Q':\n",
    "      board_list.extend([0, 0, 0, 1, 0, 0, 0, 0, 0, 0, 0, 0])\n",
    "  elif position == 'K':\n",
    "      board_list.extend([0, 0, 0, 0, 1, 0, 0, 0, 0, 0, 0, 0])\n",
    "  elif position == 'P':\n",
    "      board_list.extend([0, 0, 0, 0, 0, 1, 0, 0, 0, 0, 0, 0])\n",
    "  elif position == 'p':\n",
    "      board_list.extend([0, 0, 0, 0, 0, 0, 1, 0, 0, 0, 0, 0])\n",
    "  elif position == 'r':\n",
    "      board_list.extend([0, 0, 0, 0, 0, 0, 0, 1, 0, 0, 0, 0])\n",
    "  elif position == 'n':\n",
    "      board_list.extend([0, 0, 0, 0, 0, 0, 0, 0, 1, 0, 0, 0])\n",
    "  elif position == 'b':\n",
    "      board_list.extend([0, 0, 0, 0, 0, 0, 0, 0, 0, 1, 0, 0])\n",
    "  elif position == 'q':\n",
    "      board_list.extend([0, 0, 0, 0, 0, 0, 0, 0, 0, 0, 1, 0])\n",
    "  elif position == 'k':\n",
    "      board_list.extend([0, 0, 0, 0, 0, 0, 0, 0, 0, 0, 0, 1])\n",
    "\n",
    "  return board_list"
   ]
  },
  {
   "cell_type": "code",
   "execution_count": null,
   "metadata": {
    "colab": {},
    "colab_type": "code",
    "id": "Io24wiVTi0EO"
   },
   "outputs": [],
   "source": [
    "def get_data(board,move):\n",
    "  board_next=board.copy()\n",
    "  board_next.push(move)\n",
    "  moved_from=move.from_square\n",
    "  moved_to=move.to_square\n",
    "  board_map1=board.piece_map()\n",
    "  board_map2=board_next.piece_map()\n",
    "  board1_list=[]\n",
    "  # board2_list=[]\n",
    "  \n",
    "  for i in range(64):\n",
    "    if(i not in board_map1):\n",
    "      board_map1[i]='.'\n",
    "    if(i not in board_map2):\n",
    "      board_map2[i]='.'\n",
    "    board1_list=get_board_list_item(str(board_map1[i]),board1_list)\n",
    "    # board2_list=get_board_list_item(str(board_map2[i]),board2_list)\n",
    "\n",
    "  return board_next,board1_list,moved_from,moved_to"
   ]
  },
  {
   "cell_type": "markdown",
   "metadata": {
    "colab_type": "text",
    "id": "QlgCFlUul8-i"
   },
   "source": [
    "## Generate Data"
   ]
  },
  {
   "cell_type": "code",
   "execution_count": null,
   "metadata": {
    "colab": {
     "base_uri": "https://localhost:8080/",
     "height": 52
    },
    "colab_type": "code",
    "id": "rBLlVthzl8Xg",
    "outputId": "f41b7ce3-1807-44a7-f47e-466cc4b118db"
   },
   "outputs": [],
   "source": [
    "%%time\n",
    "\n",
    "data_x=[]\n",
    "data_y_moved_from=[]\n",
    "data_y_moved_to=[]\n",
    "\n",
    "for index, row in df.iterrows():\n",
    "  if(index<20000):\n",
    "    moves=row['moves'].split(',')\n",
    "    white=False\n",
    "    black=False\n",
    "    board=chess.Board()\n",
    "    if row['Result']==1:\n",
    "      white=True\n",
    "    else:\n",
    "      black=True\n",
    "      board.push(chess.Move.from_uci(moves[0]))\n",
    "    board_next=board.copy()\n",
    "    for move in moves:\n",
    "      if(white):\n",
    "        if(board_next.turn):\n",
    "          move=chess.Move.from_uci(move)\n",
    "          board_next,board_list,moved_from,moved_to=get_data(board_next,move)\n",
    "          data_x.append(board_list)\n",
    "          data_y_moved_from.append(moved_from)\n",
    "          data_y_moved_to.append(moved_to)\n",
    "        else:\n",
    "          board_next.push(chess.Move.from_uci(move))\n",
    "      elif(black):\n",
    "        if(board_next.turn==False):\n",
    "          move=chess.Move.from_uci(move)\n",
    "          board_next,board_list,moved_from,moved_to=get_data(board_next,move)\n",
    "          data_x.append(board_list)\n",
    "          data_y_moved_from.append(moved_from)\n",
    "          data_y_moved_to.append(moved_to)\n",
    "        else:\n",
    "          board_next.push(chess.Move.from_uci(move))"
   ]
  },
  {
   "cell_type": "code",
   "execution_count": null,
   "metadata": {
    "colab": {
     "base_uri": "https://localhost:8080/",
     "height": 70
    },
    "colab_type": "code",
    "id": "H8mX-MU4kWN4",
    "outputId": "c913e8f6-e300-443a-875c-9dd4c278a0be"
   },
   "outputs": [],
   "source": [
    "print(len(data_x))\n",
    "print(len(data_y_moved_from))\n",
    "print(len(data_y_moved_to))"
   ]
  },
  {
   "cell_type": "code",
   "execution_count": null,
   "metadata": {
    "colab": {},
    "colab_type": "code",
    "id": "QhrsIcumxeMa"
   },
   "outputs": [],
   "source": [
    "with open('data_x_list.data', 'wb') as filehandle:\n",
    "    # store the data as binary data stream\n",
    "    pickle.dump(data_x, filehandle)\n",
    "\n",
    "with open('data_y_moved_from.data', 'wb') as filehandle:\n",
    "    # store the data as binary data stream\n",
    "    pickle.dump(data_y_moved_from, filehandle)\n",
    "\n",
    "with open('data_y_moved_to.data', 'wb') as filehandle:\n",
    "    # store the data as binary data stream\n",
    "    pickle.dump(data_y_moved_to, filehandle)\n",
    "\n",
    "# with open('data_x_list.data', 'rb') as filehandle:\n",
    "#     # read the data as binary data stream\n",
    "#     data_x_new = pickle.load(filehandle)"
   ]
  },
  {
   "cell_type": "markdown",
   "metadata": {
    "colab_type": "text",
    "id": "_BwirrjrQ40M"
   },
   "source": [
    "# Model"
   ]
  },
  {
   "cell_type": "code",
   "execution_count": null,
   "metadata": {
    "colab": {},
    "colab_type": "code",
    "id": "I6Vc-UX7-j49"
   },
   "outputs": [],
   "source": [
    "with open('data_x_list.data', 'rb') as filehandle:\n",
    "    # read the data as binary data stream\n",
    "    data_x_training = pickle.load(filehandle)\n",
    "\n",
    "with open('data_y_moved_from.data', 'rb') as filehandle:\n",
    "    # read the data as binary data stream\n",
    "    data_y_moved_from_training = pickle.load(filehandle)\n",
    "\n",
    "with open('data_y_moved_to.data', 'rb') as filehandle:\n",
    "    # read the data as binary data stream\n",
    "    data_y_moved_to_training = pickle.load(filehandle)"
   ]
  },
  {
   "cell_type": "code",
   "execution_count": null,
   "metadata": {
    "colab": {},
    "colab_type": "code",
    "id": "v8m63KT0Az1B"
   },
   "outputs": [],
   "source": [
    "test_list_num=int((20*len(data_x_training)/100))\n",
    "data_x_test=data_x_training[-test_list_num:]\n",
    "data_x_training=data_x_training[:(len(data_x_training)-test_list_num)]\n",
    "\n",
    "test_list_num=int((20*len(data_y_moved_from_training)/100))\n",
    "data_y_moved_from_test=data_y_moved_from_training[-test_list_num:]\n",
    "data_y_moved_from_training=data_y_moved_from_training[:(len(data_y_moved_from_training)-test_list_num)]\n",
    "\n",
    "test_list_num=int((20*len(data_y_moved_to_training)/100))\n",
    "data_y_moved_to_test=data_y_moved_to_training[-test_list_num:]\n",
    "data_y_moved_to_training=data_y_moved_to_training[:(len(data_y_moved_to_training)-test_list_num)]"
   ]
  },
  {
   "cell_type": "code",
   "execution_count": null,
   "metadata": {
    "colab": {},
    "colab_type": "code",
    "id": "vT4S3j21GCX5"
   },
   "outputs": [],
   "source": [
    "def data_loader(data,labels,batch_num):\n",
    "  batch_data = []\n",
    "  batch_labels = []\n",
    "  for i in range(int(len(data) / batch_num)):\n",
    "    minibatch_d = data[i*batch_num: (i+1)*batch_num]\n",
    "    minibatch_d = np.reshape(minibatch_d, (batch_num, 8, 8, 12))\n",
    "    batch_data.append(torch.from_numpy(minibatch_d))\n",
    "\n",
    "    minibatch_l = labels[i*batch_num: (i+1)*batch_num]\n",
    "    batch_labels.append(torch.FloatTensor(minibatch_l))\n",
    "  data, labels = batch_data, batch_labels \n",
    "      \n",
    "  return zip(batch_data, batch_labels)"
   ]
  },
  {
   "cell_type": "code",
   "execution_count": null,
   "metadata": {
    "colab": {
     "base_uri": "https://localhost:8080/",
     "height": 52
    },
    "colab_type": "code",
    "id": "MrYmepSxIyV1",
    "outputId": "677e619d-86f7-4a99-e23d-7bbe98cc5e72"
   },
   "outputs": [],
   "source": [
    "batch_num=128\n",
    "trainloader = list(data_loader(data_x_training,data_y_moved_from_training,batch_num=batch_num))\n",
    "# trainloader_model2 = list(data_loader(data_x_training,data_y_moved_to_training,batch_num=batch_num))\n",
    "\n",
    "testloader = list(data_loader(data_x_test,data_y_moved_from_test,batch_num=batch_num))\n",
    "# testloader_model2 = list(data_loader(data_x_test,data_y_moved_to_test,batch_num=batch_num))\n",
    "\n",
    "print(\"Finish loading %d minibatches(=%d) of training samples.\" % (len(trainloader), batch_num))\n",
    "# print(\"Finish loading %d minibatches(=%d) of training samples.\" % (len(trainloader_model2), batch_num))\n",
    "print(\"Finish loading %d minibatches(=%d) of training samples.\" % (len(testloader), batch_num))\n",
    "# print(\"Finish loading %d minibatches(=%d) of training samples.\" % (len(testloader_model2), batch_num))\n",
    "\n"
   ]
  },
  {
   "cell_type": "code",
   "execution_count": null,
   "metadata": {
    "colab": {
     "base_uri": "https://localhost:8080/",
     "height": 141
    },
    "colab_type": "code",
    "id": "clXaGdwaoIL7",
    "outputId": "97791ecd-75f2-4aa3-bb62-75d3e91dc4ea"
   },
   "outputs": [],
   "source": [
    "# ==========================================\n",
    "#       Define Network Architecture\n",
    "# ==========================================\n",
    "\n",
    "class Net(nn.Module):\n",
    "  def __init__(self):\n",
    "    super(Net, self).__init__()\n",
    "\n",
    "    self.conv1 = nn.Conv2d(8,128,2)\n",
    "    self.relu1 = nn.ReLU()\n",
    "\n",
    "    self.conv2 = nn.Conv2d(128,256,2)\n",
    "    self.relu2 = nn.ReLU()\n",
    "\n",
    "    # self.conv3 = nn.Conv2d(in_channels=128, out_channels=256, kernel_size=2, stride=1, padding=1)\n",
    "    # self.relu3 = nn.ReLU()\n",
    "\n",
    "    # self.conv4 = nn.Conv2d(in_channels=1024, out_channels=1024, kernel_size=2, stride=1, padding=1)\n",
    "    # self.relu4 = nn.ReLU()\n",
    "\n",
    "    self.fc = nn.Linear(in_features=8 * 8 * 256, out_features=64)\n",
    "\n",
    "  def forward(self, x):\n",
    "\n",
    "    print(x.shape)\n",
    "    output = self.conv1(x)\n",
    "    output = self.relu1(output)\n",
    "\n",
    "    output = self.conv2(output)\n",
    "    output = self.relu2(output)\n",
    "\n",
    "    # output = self.conv3(output)\n",
    "    # output = self.relu3(output)\n",
    "\n",
    "    # output = self.conv4(output)\n",
    "    # output = self.relu4(output)\n",
    "\n",
    "    output = output.view(-1, 8 * 8 * 12)\n",
    "    print(output.shape)\n",
    "\n",
    "    output = self.fc(output)\n",
    "\n",
    "    return output\n",
    "\n",
    "\n",
    "net = Net()\n",
    "device = torch.device(\"cuda\")\n",
    "net.to(device)\n",
    "print(net)\n",
    "\n",
    "criterion = nn.CrossEntropyLoss()\n",
    "optimizer = torch.optim.SGD(net.parameters(), lr=0.001, momentum=0.9)"
   ]
  },
  {
   "cell_type": "code",
   "execution_count": null,
   "metadata": {
    "colab": {
     "base_uri": "https://localhost:8080/",
     "height": 461
    },
    "colab_type": "code",
    "id": "sNJTDG8xoJwH",
    "outputId": "4a4e8714-4b43-46bf-ded7-70ddc55549ed"
   },
   "outputs": [],
   "source": [
    "# ==========================================\n",
    "#         Optimize/Train Network\n",
    "# ==========================================\n",
    "%%time\n",
    "epoch=20\n",
    "\n",
    "for epoch in range(epoch):\n",
    "  r_loss = 0.0\n",
    "  print(\"Epoch: \",epoch)\n",
    "  for i, data in enumerate(trainloader, 0):\n",
    "    inputs, labels = data\n",
    "    inputs=inputs.float()\n",
    "    inputs, labels=inputs.to(device), labels.to(device)\n",
    "    \n",
    "    optimizer.zero_grad()\n",
    "    outputs = net(inputs)\n",
    "    loss = criterion(outputs, labels)\n",
    "    loss.backward()\n",
    "    optimizer.step()\n",
    "    r_loss = r_loss + loss.item()\n",
    "\n",
    "  if epoch is epoch-1:\n",
    "      print('final loss: %f' %(r_loss / batch_num))\n",
    "  running_loss = 0.0"
   ]
  },
  {
   "cell_type": "code",
   "execution_count": null,
   "metadata": {
    "colab": {
     "base_uri": "https://localhost:8080/",
     "height": 407
    },
    "colab_type": "code",
    "id": "m5sadf8qoOW6",
    "outputId": "a86821f0-fe74-4055-dcc7-ed31a67f1100"
   },
   "outputs": [],
   "source": [
    "# ==========================================\n",
    "#            Evaluating Network\n",
    "# ==========================================\n",
    "%%time\n",
    "correct = 0\n",
    "total = 0\n",
    "with torch.no_grad():\n",
    "    for data in testloader:\n",
    "        imgs, labels = data\n",
    "        imgs=imgs.float()        \n",
    "        imgs, labels=imgs.to(device), labels.to(device)\n",
    "        outputs = net(imgs)\n",
    "        ignore, predicted = torch.max(outputs.data, 1)\n",
    "        total = total + labels.size(0)\n",
    "        correct = correct + (predicted == labels).sum().item()\n",
    "\n",
    "print('Accuracy of the network %d %%'% (100 * correct / float(total)))"
   ]
  },
  {
   "cell_type": "markdown",
   "metadata": {
    "colab_type": "text",
    "id": "33f7KTNcQkOQ"
   },
   "source": [
    "# 2\n"
   ]
  },
  {
   "cell_type": "code",
   "execution_count": null,
   "metadata": {
    "colab": {},
    "colab_type": "code",
    "id": "cBh0Xn4l3rns"
   },
   "outputs": [],
   "source": [
    "import numpy as np\n",
    "\n",
    "def next_pos():\n",
    "    next_pos = ['r', 'n', 'b', 'q', 'k', 'b', 'n', 'r',\n",
    "                'p', 'p', 'p', 'p', 'p', 'p', 'p', 'p',\n",
    "                '.', '.', '.', '.', '.', '.', '.', '.',\n",
    "                '.', '.', '.', '.', '.', '.', '.', '.',\n",
    "                '.', '.', '.', '.', '.', '.', '.', '.',\n",
    "                '.', '.', '.', '.', '.', '.', '.', '.',\n",
    "                'P', 'P', 'P', 'P', 'P', 'P', 'P', 'P',\n",
    "                'R', 'N', 'B', 'Q', 'K', 'B', 'N', 'R']\n",
    "\n",
    "    return next_pos\n",
    "\n",
    "def next_pos2():\n",
    "    next_pos = ['r', 'n', 'b', 'q', 'k', 'b', 'n', 'r',\n",
    "                'p', 'p', 'p', 'p', 'p', 'p', 'p', 'p',\n",
    "                '.', '.', '.', '.', '.', '.', '.', '.',\n",
    "                '.', '.', '.', '.', '.', '.', '.', '.',\n",
    "                '.', '.', '.', '.', '.', '.', '.', '.',\n",
    "                '.', '.', '.', '.', '.', 'N', '.', '.',\n",
    "                'P', 'P', 'P', 'P', 'P', 'P', 'P', 'P',\n",
    "                'R', 'N', 'B', 'Q', 'K', 'B', '.', 'R']\n",
    "\n",
    "    return next_pos\n",
    "\n",
    "def make_clean_board(pos):\n",
    "    if(pos==1):\n",
    "      next_position = next_pos()\n",
    "    else:\n",
    "      next_position = next_pos2()\n",
    "    input_board = []\n",
    "    for input_square in next_position:\n",
    "        if input_square == '.':\n",
    "            input_board.extend([0, 0, 0, 0, 0, 0, 0, 0, 0, 0, 0, 0])\n",
    "        elif input_square == 'p':\n",
    "            input_board.extend([1, 0, 0, 0, 0, 0, 0, 0, 0, 0, 0, 0])\n",
    "        elif input_square == 'n':\n",
    "            input_board.extend([0, 1, 0, 0, 0, 0, 0, 0, 0, 0, 0, 0])\n",
    "        elif input_square == 'b':\n",
    "            input_board.extend([0, 0, 1, 0, 0, 0, 0, 0, 0, 0, 0, 0])\n",
    "        elif input_square == 'r':\n",
    "            input_board.extend([0, 0, 0, 1, 0, 0, 0, 0, 0, 0, 0, 0])\n",
    "        elif input_square == 'q':\n",
    "            input_board.extend([0, 0, 0, 0, 1, 0, 0, 0, 0, 0, 0, 0])\n",
    "        elif input_square == 'k':\n",
    "            input_board.extend([0, 0, 0, 0, 0, 1, 0, 0, 0, 0, 0, 0])\n",
    "        elif input_square == 'P':\n",
    "            input_board.extend([0, 0, 0, 0, 0, 0, 1, 0, 0, 0, 0, 0])\n",
    "        elif input_square == 'N':\n",
    "            input_board.extend([0, 0, 0, 0, 0, 0, 0, 1, 0, 0, 0, 0])\n",
    "        elif input_square == 'B':\n",
    "            input_board.extend([0, 0, 0, 0, 0, 0, 0, 0, 1, 0, 0, 0])\n",
    "        elif input_square == 'R':\n",
    "            input_board.extend([0, 0, 0, 0, 0, 0, 0, 0, 0, 1, 0, 0])\n",
    "        elif input_square == 'Q':\n",
    "            input_board.extend([0, 0, 0, 0, 0, 0, 0, 0, 0, 0, 1, 0])\n",
    "        elif input_square == 'K':\n",
    "            input_board.extend([0, 0, 0, 0, 0, 0, 0, 0, 0, 0, 0, 1])\n",
    "    \n",
    "    # print(input_board)\n",
    "    # return np.reshape(np.array(input_board), (1, 768))\n",
    "    return input_board\n",
    "\n",
    "\n",
    "\n",
    "pos1=make_clean_board(pos=1);\n",
    "pos2=make_clean_board(pos=2);"
   ]
  },
  {
   "cell_type": "code",
   "execution_count": null,
   "metadata": {
    "colab": {},
    "colab_type": "code",
    "id": "1EZ81my0Q2NQ"
   },
   "outputs": [],
   "source": [
    "def piece_moved(position1, position2):\n",
    "    '''Main data conversion function.\n",
    "    step 1: checks the difference between two positions and returns a list\n",
    "            of the affected squares.\n",
    "    step 2: checks whether it is a normal move (only two squares affected), or\n",
    "            en passant (3 squares affected) or castling (4 squares affected)\n",
    "            step 2a: If castling, the square moved from is where the king was\n",
    "                     in the beginning of the turn. Square moved to is where\n",
    "                     the king is at the end of the turn.\n",
    "            step 2b: If en passant, square moved from is where the pawn was\n",
    "                     at the beginning of the turn. Moved to is where the pawn\n",
    "                     is at the end of the turn.\n",
    "    step 3: Returns two ints with the square moved from, and square moved to\n",
    "    '''\n",
    "    affected_squares = []\n",
    "    for i in range(64):  # Step 1\n",
    "        if position1[i] != position2[i]:\n",
    "            affected_squares.append(i)\n",
    "    if len(affected_squares) > 2:  # Step 2\n",
    "        for square in affected_squares:\n",
    "            if position1[square] == 12 or position1[square] == 6:  # Step 2a\n",
    "                moved_from = square\n",
    "            if position2[square] == 12 or position2[square] == 6:\n",
    "                moved_to = square\n",
    "            if position1[square] == 0:  # Step 2b\n",
    "                if position2[square] == 1:\n",
    "                    moved_to = square\n",
    "                    for square in affected_squares:\n",
    "                        if position1[square] == 1:\n",
    "                            moved_from = square\n",
    "                elif position2[square] == 7:\n",
    "                    moved_to = square\n",
    "                    for square in affected_squares:\n",
    "                        if position1[square] == 7:\n",
    "                            moved_from = square\n",
    "    else:\n",
    "        if position2[affected_squares[0]] == 0:\n",
    "            moved_from, moved_to = affected_squares[0], affected_squares[1]\n",
    "        else:\n",
    "            moved_from, moved_to = affected_squares[1], affected_squares[0]\n",
    "    return moved_from, moved_to"
   ]
  },
  {
   "cell_type": "code",
   "execution_count": null,
   "metadata": {
    "colab": {
     "base_uri": "https://localhost:8080/",
     "height": 34
    },
    "colab_type": "code",
    "id": "fQjOdW3QWr-x",
    "outputId": "bec5c69b-b5b5-4446-989f-bedaee2c77e2"
   },
   "outputs": [],
   "source": [
    "print(type(pos2))"
   ]
  },
  {
   "cell_type": "code",
   "execution_count": null,
   "metadata": {
    "colab": {
     "base_uri": "https://localhost:8080/",
     "height": 34
    },
    "colab_type": "code",
    "id": "Sl7rXRVAXFlI",
    "outputId": "1120f388-0934-4d9c-ee14-c9dcceee792b"
   },
   "outputs": [],
   "source": [
    "len(pos1)"
   ]
  },
  {
   "cell_type": "code",
   "execution_count": null,
   "metadata": {
    "colab": {
     "base_uri": "https://localhost:8080/",
     "height": 292
    },
    "colab_type": "code",
    "id": "rc8iKBdCUqsN",
    "outputId": "2b336a59-62e3-434a-f14f-b190a798db85"
   },
   "outputs": [],
   "source": [
    "moved_from,moved_to=piece_moved(pos1,pos2)"
   ]
  },
  {
   "cell_type": "code",
   "execution_count": null,
   "metadata": {
    "colab": {
     "base_uri": "https://localhost:8080/",
     "height": 34
    },
    "colab_type": "code",
    "id": "KaidBnPyU1J5",
    "outputId": "9dd6e29d-0959-4ee5-ce50-a526b3894fb8"
   },
   "outputs": [],
   "source": [
    "print(pos1[0].shape)"
   ]
  },
  {
   "cell_type": "code",
   "execution_count": null,
   "metadata": {
    "colab": {},
    "colab_type": "code",
    "id": "Bjf-MnX7U7-L"
   },
   "outputs": [],
   "source": [
    "board1=chess.Board()"
   ]
  },
  {
   "cell_type": "code",
   "execution_count": null,
   "metadata": {
    "colab": {},
    "colab_type": "code",
    "id": "RBKAwzl8aYYs"
   },
   "outputs": [],
   "source": [
    "board1"
   ]
  },
  {
   "cell_type": "code",
   "execution_count": null,
   "metadata": {
    "colab": {},
    "colab_type": "code",
    "id": "owgfJPtgaY_m"
   },
   "outputs": [],
   "source": [
    "board2=board1.copy()\n",
    "board2.push(chess.Move.from_uci(\"g1f3\"))\n",
    "move=chess.Move.from_uci(\"g1f3\")\n"
   ]
  },
  {
   "cell_type": "code",
   "execution_count": null,
   "metadata": {
    "colab": {
     "base_uri": "https://localhost:8080/",
     "height": 52
    },
    "colab_type": "code",
    "id": "ncfpC4nKbPBb",
    "outputId": "e2606f80-0530-4f9c-a0db-387e27ce1152"
   },
   "outputs": [],
   "source": [
    "print(move.from_square)\n",
    "print(move.to_square)"
   ]
  },
  {
   "cell_type": "code",
   "execution_count": null,
   "metadata": {
    "colab": {},
    "colab_type": "code",
    "id": "C-MXS_PYbZhS"
   },
   "outputs": [],
   "source": [
    "board1"
   ]
  },
  {
   "cell_type": "code",
   "execution_count": null,
   "metadata": {
    "colab": {
     "base_uri": "https://localhost:8080/",
     "height": 354
    },
    "colab_type": "code",
    "id": "ttD-Z6mud5P9",
    "outputId": "2289884b-58ce-4601-f29e-3cd6ac65c9ef"
   },
   "outputs": [],
   "source": [
    "board1=chess.Board(fen='rnbqkbnr/pppp2pp/4p3/5p2/8/5NPB/PPPPPP1P/RNBQK2R w KQkq - 0 4')\n",
    "move=chess.Move.from_uci(\"e1g1\")\n",
    "print(board1.is_kingside_castling(move))\n",
    "board2=board1.copy()\n",
    "board2.push(move)\n",
    "print(board1)\n",
    "print(board2)\n",
    "print(move.from_square)\n",
    "print(move.to_square)"
   ]
  },
  {
   "cell_type": "code",
   "execution_count": null,
   "metadata": {
    "colab": {},
    "colab_type": "code",
    "id": "K4Fj9oMyhdf2"
   },
   "outputs": [],
   "source": [
    "def get_data(board,move):\n",
    "  board_next=board.copy()\n",
    "  board_next.push(move)\n",
    "  moved_from=move.from_square\n",
    "  moved_to=move.to_square\n",
    "  board_map1=board.piece_map()\n",
    "  board_map2=board_next.piece_map()\n",
    "  board1_list=[]\n",
    "  board2_list=[]\n",
    "  \n",
    "  for i in range(64):\n",
    "    if(i not in board_map1):\n",
    "      board_map1[i]='.'\n",
    "    if(i not in board_map2):\n",
    "      board_map2[i]='.'\n",
    "\n",
    "  board1_list=get_board_list_item(str(board_map1[i]),board1_list)\n",
    "  board2_list=get_board_list_item(str(board_map2[i]),board2_list)\n",
    "\n",
    "  return board1_list,board2_list,moved_from,moved_to"
   ]
  },
  {
   "cell_type": "code",
   "execution_count": null,
   "metadata": {
    "colab": {
     "base_uri": "https://localhost:8080/",
     "height": 34
    },
    "colab_type": "code",
    "id": "OMRoaW4qiJ-Y",
    "outputId": "2b002736-e797-44bc-c9fc-17919bbd35f9"
   },
   "outputs": [],
   "source": [
    "board1_list,board2_list,moved_from,moved_to=get_data(board1,move)\n",
    "\n",
    "print(moved_from,moved_to)"
   ]
  },
  {
   "cell_type": "code",
   "execution_count": null,
   "metadata": {
    "colab": {},
    "colab_type": "code",
    "id": "ntpmzq98bpeA"
   },
   "outputs": [],
   "source": [
    "board_map1=board1.piece_map()\n",
    "board_map2=board2.piece_map()"
   ]
  },
  {
   "cell_type": "code",
   "execution_count": null,
   "metadata": {
    "colab": {},
    "colab_type": "code",
    "id": "qbrln2tbcRbq"
   },
   "outputs": [],
   "source": [
    "moved_from=0\n",
    "moved_to=0\n",
    "board1_list=[]\n",
    "board2_list=[]\n",
    "for i in range(64):\n",
    "  if(i not in board_map1):\n",
    "    board_map1[i]='.'\n",
    "  if(i not in board_map2):\n",
    "    board_map2[i]='.'\n",
    "  # if(board_map1[i]!=board_map2[i]):\n",
    "  #   if(board_map1[i]=='.'):\n",
    "  #     moved_to=i\n",
    "  #   else:\n",
    "  #     moved_from=i\n",
    "  \n",
    "  board1_list=get_board_list_item(str(board_map1[i]),board1_list)\n",
    "  board2_list=get_board_list_item(str(board_map2[i]),board2_list)\n",
    "\n",
    "if(board1.is_kingside_castling(move)):\n",
    "  "
   ]
  },
  {
   "cell_type": "code",
   "execution_count": null,
   "metadata": {
    "colab": {},
    "colab_type": "code",
    "id": "3CpsmitbhCbe"
   },
   "outputs": [],
   "source": []
  },
  {
   "cell_type": "code",
   "execution_count": null,
   "metadata": {
    "colab": {
     "base_uri": "https://localhost:8080/",
     "height": 87
    },
    "colab_type": "code",
    "id": "iscEruaAc_Aj",
    "outputId": "681f5467-01b6-4657-eae7-a668b56faf78"
   },
   "outputs": [],
   "source": [
    "\n",
    "print(moved_from)\n",
    "print(moved_to)\n",
    "print(len(board1_list))\n",
    "print(len(board2_list))"
   ]
  },
  {
   "cell_type": "code",
   "execution_count": null,
   "metadata": {
    "colab": {},
    "colab_type": "code",
    "id": "N4WQTfreawR3"
   },
   "outputs": [],
   "source": [
    "def get_board_list_item(position,board_list):\n",
    "  if position == '.':\n",
    "      board_list.extend([0, 0, 0, 0, 0, 0, 0, 0, 0, 0, 0, 0])\n",
    "  elif position == 'R':\n",
    "      board_list.extend([1, 0, 0, 0, 0, 0, 0, 0, 0, 0, 0, 0])\n",
    "  elif position == 'N':\n",
    "      board_list.extend([0, 1, 0, 0, 0, 0, 0, 0, 0, 0, 0, 0])\n",
    "  elif position == 'B':\n",
    "      board_list.extend([0, 0, 1, 0, 0, 0, 0, 0, 0, 0, 0, 0])\n",
    "  elif position == 'Q':\n",
    "      board_list.extend([0, 0, 0, 1, 0, 0, 0, 0, 0, 0, 0, 0])\n",
    "  elif position == 'K':\n",
    "      board_list.extend([0, 0, 0, 0, 1, 0, 0, 0, 0, 0, 0, 0])\n",
    "  elif position == 'P':\n",
    "      board_list.extend([0, 0, 0, 0, 0, 1, 0, 0, 0, 0, 0, 0])\n",
    "  elif position == 'p':\n",
    "      board_list.extend([0, 0, 0, 0, 0, 0, 1, 0, 0, 0, 0, 0])\n",
    "  elif position == 'r':\n",
    "      board_list.extend([0, 0, 0, 0, 0, 0, 0, 1, 0, 0, 0, 0])\n",
    "  elif position == 'n':\n",
    "      board_list.extend([0, 0, 0, 0, 0, 0, 0, 0, 1, 0, 0, 0])\n",
    "  elif position == 'b':\n",
    "      board_list.extend([0, 0, 0, 0, 0, 0, 0, 0, 0, 1, 0, 0])\n",
    "  elif position == 'q':\n",
    "      board_list.extend([0, 0, 0, 0, 0, 0, 0, 0, 0, 0, 1, 0])\n",
    "  elif position == 'k':\n",
    "      board_list.extend([0, 0, 0, 0, 0, 0, 0, 0, 0, 0, 0, 1])\n",
    "\n",
    "  return board_list"
   ]
  },
  {
   "cell_type": "code",
   "execution_count": null,
   "metadata": {
    "colab": {
     "base_uri": "https://localhost:8080/",
     "height": 158
    },
    "colab_type": "code",
    "id": "qwAPg16QbcuE",
    "outputId": "cd48cd8f-65d9-463d-91f9-486f691cbc96"
   },
   "outputs": [],
   "source": [
    "print(board1)"
   ]
  },
  {
   "cell_type": "code",
   "execution_count": null,
   "metadata": {
    "colab": {
     "base_uri": "https://localhost:8080/",
     "height": 585
    },
    "colab_type": "code",
    "id": "AmvRDhd2drKI",
    "outputId": "02c9c9d6-f3ee-4c93-f26e-7aa556f43e95"
   },
   "outputs": [],
   "source": [
    "print(board_map1)"
   ]
  },
  {
   "cell_type": "code",
   "execution_count": null,
   "metadata": {
    "colab": {},
    "colab_type": "code",
    "id": "M6OP6AoJdsJy"
   },
   "outputs": [],
   "source": []
  }
 ],
 "metadata": {
  "accelerator": "GPU",
  "colab": {
   "collapsed_sections": [
    "QlgCFlUul8-i"
   ],
   "machine_shape": "hm",
   "name": "Chess_AI.ipynb",
   "provenance": []
  },
  "kernelspec": {
   "display_name": "Python 3",
   "language": "python",
   "name": "python3"
  },
  "language_info": {
   "codemirror_mode": {
    "name": "ipython",
    "version": 3
   },
   "file_extension": ".py",
   "mimetype": "text/x-python",
   "name": "python",
   "nbconvert_exporter": "python",
   "pygments_lexer": "ipython3",
   "version": "3.5.3"
  }
 },
 "nbformat": 4,
 "nbformat_minor": 1
}
