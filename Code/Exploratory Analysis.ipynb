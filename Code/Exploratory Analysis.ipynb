{
  "nbformat": 4,
  "nbformat_minor": 0,
  "metadata": {
    "colab": {
      "name": "DSF - Project - Phase 2.ipynb",
      "provenance": [],
      "collapsed_sections": [],
      "toc_visible": true,
      "machine_shape": "hm"
    },
    "kernelspec": {
      "name": "python3",
      "display_name": "Python 3"
    },
    "accelerator": "GPU"
  },
  "cells": [
    {
      "cell_type": "markdown",
      "metadata": {
        "id": "OQWzurqrNera"
      },
      "source": [
        "## **Libraries**"
      ]
    },
    {
      "cell_type": "code",
      "metadata": {
        "id": "Dqft7s3ZNL3H"
      },
      "source": [
        "# Drive\n",
        "from google.colab import drive\n",
        "import pandas as pd\n",
        "import chess.pgn\n",
        "\n",
        "# Visualization\n",
        "import seaborn as sns\n",
        "import matplotlib.pyplot as plt\n",
        "tips = sns.load_dataset(\"tips\")\n",
        "sns.set(style='whitegrid', palette=\"deep\", font_scale=1.1)\n",
        "\n",
        "# Label Encoding\n",
        "from sklearn.preprocessing import LabelEncoder\n",
        "\n",
        "# Feature Selection\n",
        "from sklearn.ensemble import ExtraTreesClassifier\n",
        "\n",
        "# Split DF into Test and Train\n",
        "from sklearn.model_selection import train_test_split\n",
        "\n",
        "# Modelling\n",
        "from sklearn.linear_model import LinearRegression\n",
        "from sklearn.linear_model import Lasso\n",
        "from sklearn.linear_model import ElasticNet\n",
        "from sklearn.svm import SVR\n",
        "import xgboost as xgb\n",
        "from lightgbm import LGBMRegressor\n",
        "\n",
        "import sklearn.metrics as metrics\n",
        "\n",
        "# For ROC\n",
        "from sklearn.metrics import roc_curve\n",
        "from sklearn.metrics import roc_auc_score"
      ],
      "execution_count": null,
      "outputs": []
    },
    {
      "cell_type": "markdown",
      "metadata": {
        "id": "GC9WQjFtNksW"
      },
      "source": [
        "## **Data**"
      ]
    },
    {
      "cell_type": "code",
      "metadata": {
        "id": "JUOyEFAiPMD2",
        "outputId": "1381f4d6-186c-4eb0-a6a4-8bead66841a7",
        "colab": {
          "base_uri": "https://localhost:8080/",
          "height": 34
        }
      },
      "source": [
        "drive.mount('/content/drive')"
      ],
      "execution_count": null,
      "outputs": [
        {
          "output_type": "stream",
          "text": [
            "Drive already mounted at /content/drive; to attempt to forcibly remount, call drive.mount(\"/content/drive\", force_remount=True).\n"
          ],
          "name": "stdout"
        }
      ]
    },
    {
      "cell_type": "code",
      "metadata": {
        "id": "oZ53xwDPPMOz",
        "outputId": "896d6c46-07fd-4a86-c8fa-d3e583a3e26d",
        "colab": {
          "base_uri": "https://localhost:8080/",
          "height": 34
        }
      },
      "source": [
        "cd '/content/drive/Shared drives/DSF_Project/dataset/Standard/CSV/2019'"
      ],
      "execution_count": null,
      "outputs": [
        {
          "output_type": "stream",
          "text": [
            "/content/drive/Shared drives/DSF_Project/dataset/Standard/CSV/2019\n"
          ],
          "name": "stdout"
        }
      ]
    },
    {
      "cell_type": "code",
      "metadata": {
        "id": "2ZPlCSAhOCnN"
      },
      "source": [
        "df = pd.read_csv('2019_10_53000.csv')"
      ],
      "execution_count": null,
      "outputs": []
    },
    {
      "cell_type": "code",
      "metadata": {
        "id": "0bsbA_hF_PwF",
        "outputId": "1fe24c15-6dcb-4e0a-e538-865baf148203",
        "colab": {
          "base_uri": "https://localhost:8080/",
          "height": 915
        }
      },
      "source": [
        "df"
      ],
      "execution_count": null,
      "outputs": [
        {
          "output_type": "execute_result",
          "data": {
            "text/html": [
              "<div>\n",
              "<style scoped>\n",
              "    .dataframe tbody tr th:only-of-type {\n",
              "        vertical-align: middle;\n",
              "    }\n",
              "\n",
              "    .dataframe tbody tr th {\n",
              "        vertical-align: top;\n",
              "    }\n",
              "\n",
              "    .dataframe thead th {\n",
              "        text-align: right;\n",
              "    }\n",
              "</style>\n",
              "<table border=\"1\" class=\"dataframe\">\n",
              "  <thead>\n",
              "    <tr style=\"text-align: right;\">\n",
              "      <th></th>\n",
              "      <th>ID</th>\n",
              "      <th>Event</th>\n",
              "      <th>Site</th>\n",
              "      <th>Date</th>\n",
              "      <th>Round</th>\n",
              "      <th>White</th>\n",
              "      <th>Black</th>\n",
              "      <th>WhiteTitle</th>\n",
              "      <th>BlackTitle</th>\n",
              "      <th>Result</th>\n",
              "      <th>BlackElo</th>\n",
              "      <th>BlackRatingDiff</th>\n",
              "      <th>ECO</th>\n",
              "      <th>Opening</th>\n",
              "      <th>Termination</th>\n",
              "      <th>TimeControl</th>\n",
              "      <th>UTCDate</th>\n",
              "      <th>UTCTime</th>\n",
              "      <th>WhiteElo</th>\n",
              "      <th>WhiteRatingDiff</th>\n",
              "      <th>Moves</th>\n",
              "      <th>White1</th>\n",
              "      <th>Black1</th>\n",
              "      <th>White2</th>\n",
              "      <th>Black2</th>\n",
              "    </tr>\n",
              "  </thead>\n",
              "  <tbody>\n",
              "    <tr>\n",
              "      <th>0</th>\n",
              "      <td>0</td>\n",
              "      <td>Rated Bullet game</td>\n",
              "      <td>https://lichess.org/WjPYNbE6</td>\n",
              "      <td>2019.10.01</td>\n",
              "      <td>-</td>\n",
              "      <td>Charles_Martel</td>\n",
              "      <td>blackrock_rdl</td>\n",
              "      <td>NaN</td>\n",
              "      <td>NaN</td>\n",
              "      <td>0-1</td>\n",
              "      <td>1531</td>\n",
              "      <td>10.0</td>\n",
              "      <td>C50</td>\n",
              "      <td>Giuoco Piano</td>\n",
              "      <td>Normal</td>\n",
              "      <td>60+0</td>\n",
              "      <td>2019.10.01</td>\n",
              "      <td>00:00:07</td>\n",
              "      <td>1688</td>\n",
              "      <td>-10.0</td>\n",
              "      <td>e2e4,b8c6,g1f3,e7e5,f1c4,f8c5,f3g5,d8g5,d2d4,g...</td>\n",
              "      <td>e2e4</td>\n",
              "      <td>e2e4,b8c6</td>\n",
              "      <td>e2e4,b8c6,g1f3</td>\n",
              "      <td>e2e4,b8c6,g1f3,e7e5</td>\n",
              "    </tr>\n",
              "    <tr>\n",
              "      <th>1</th>\n",
              "      <td>1</td>\n",
              "      <td>Rated Bullet game</td>\n",
              "      <td>https://lichess.org/Rzcb04V7</td>\n",
              "      <td>2019.10.01</td>\n",
              "      <td>-</td>\n",
              "      <td>angelelizondo</td>\n",
              "      <td>the_speare</td>\n",
              "      <td>NaN</td>\n",
              "      <td>NaN</td>\n",
              "      <td>0-1</td>\n",
              "      <td>1390</td>\n",
              "      <td>8.0</td>\n",
              "      <td>B01</td>\n",
              "      <td>Scandinavian Defense</td>\n",
              "      <td>Normal</td>\n",
              "      <td>60+0</td>\n",
              "      <td>2019.10.01</td>\n",
              "      <td>00:00:07</td>\n",
              "      <td>1418</td>\n",
              "      <td>-8.0</td>\n",
              "      <td>e2e4,d7d5,d1f3,d5e4,f3e4,g8f6,e4f3,b8c6,f1c4,c...</td>\n",
              "      <td>e2e4</td>\n",
              "      <td>e2e4,d7d5</td>\n",
              "      <td>e2e4,d7d5,d1f3</td>\n",
              "      <td>e2e4,d7d5,d1f3,d5e4</td>\n",
              "    </tr>\n",
              "    <tr>\n",
              "      <th>2</th>\n",
              "      <td>2</td>\n",
              "      <td>Rated Bullet game</td>\n",
              "      <td>https://lichess.org/tEfsXUm3</td>\n",
              "      <td>2019.10.01</td>\n",
              "      <td>-</td>\n",
              "      <td>Rember280714</td>\n",
              "      <td>Konduzzjoni</td>\n",
              "      <td>NaN</td>\n",
              "      <td>NaN</td>\n",
              "      <td>1-0</td>\n",
              "      <td>1988</td>\n",
              "      <td>-6.0</td>\n",
              "      <td>A46</td>\n",
              "      <td>Torre Attack #2</td>\n",
              "      <td>Normal</td>\n",
              "      <td>60+0</td>\n",
              "      <td>2019.10.01</td>\n",
              "      <td>00:00:07</td>\n",
              "      <td>2002</td>\n",
              "      <td>7.0</td>\n",
              "      <td>d2d4,g8f6,g1f3,e7e5,e2e3,e5d4,f3d4,f8c5,d4b3,c...</td>\n",
              "      <td>d2d4</td>\n",
              "      <td>d2d4,g8f6</td>\n",
              "      <td>d2d4,g8f6,g1f3</td>\n",
              "      <td>d2d4,g8f6,g1f3,e7e5</td>\n",
              "    </tr>\n",
              "    <tr>\n",
              "      <th>3</th>\n",
              "      <td>3</td>\n",
              "      <td>Rated Bullet game</td>\n",
              "      <td>https://lichess.org/iDQu0Vv4</td>\n",
              "      <td>2019.10.01</td>\n",
              "      <td>-</td>\n",
              "      <td>seven7000</td>\n",
              "      <td>pajarraco1006</td>\n",
              "      <td>NaN</td>\n",
              "      <td>NaN</td>\n",
              "      <td>1-0</td>\n",
              "      <td>2132</td>\n",
              "      <td>-8.0</td>\n",
              "      <td>A27</td>\n",
              "      <td>English Opening: King's English Variation, Thr...</td>\n",
              "      <td>Normal</td>\n",
              "      <td>60+0</td>\n",
              "      <td>2019.10.01</td>\n",
              "      <td>00:00:07</td>\n",
              "      <td>2096</td>\n",
              "      <td>8.0</td>\n",
              "      <td>c2c4,b8c6,b1c3,e7e5,g1f3,f8c5,g2g3,g8f6,f1g2,d...</td>\n",
              "      <td>c2c4</td>\n",
              "      <td>c2c4,b8c6</td>\n",
              "      <td>c2c4,b8c6,b1c3</td>\n",
              "      <td>c2c4,b8c6,b1c3,e7e5</td>\n",
              "    </tr>\n",
              "    <tr>\n",
              "      <th>4</th>\n",
              "      <td>4</td>\n",
              "      <td>Rated Bullet game</td>\n",
              "      <td>https://lichess.org/u87U7QjG</td>\n",
              "      <td>2019.10.01</td>\n",
              "      <td>-</td>\n",
              "      <td>shapa11</td>\n",
              "      <td>TwinkleToes</td>\n",
              "      <td>NaN</td>\n",
              "      <td>NaN</td>\n",
              "      <td>1-0</td>\n",
              "      <td>2059</td>\n",
              "      <td>-6.0</td>\n",
              "      <td>A15</td>\n",
              "      <td>English Opening: Anglo-Indian Defense</td>\n",
              "      <td>Normal</td>\n",
              "      <td>60+0</td>\n",
              "      <td>2019.10.01</td>\n",
              "      <td>00:00:07</td>\n",
              "      <td>2079</td>\n",
              "      <td>7.0</td>\n",
              "      <td>c2c4,g8f6,e2e3,g7g6,g1f3,f8g7,a2a3,d7d6,b2b4,e...</td>\n",
              "      <td>c2c4</td>\n",
              "      <td>c2c4,g8f6</td>\n",
              "      <td>c2c4,g8f6,e2e3</td>\n",
              "      <td>c2c4,g8f6,e2e3,g7g6</td>\n",
              "    </tr>\n",
              "    <tr>\n",
              "      <th>...</th>\n",
              "      <td>...</td>\n",
              "      <td>...</td>\n",
              "      <td>...</td>\n",
              "      <td>...</td>\n",
              "      <td>...</td>\n",
              "      <td>...</td>\n",
              "      <td>...</td>\n",
              "      <td>...</td>\n",
              "      <td>...</td>\n",
              "      <td>...</td>\n",
              "      <td>...</td>\n",
              "      <td>...</td>\n",
              "      <td>...</td>\n",
              "      <td>...</td>\n",
              "      <td>...</td>\n",
              "      <td>...</td>\n",
              "      <td>...</td>\n",
              "      <td>...</td>\n",
              "      <td>...</td>\n",
              "      <td>...</td>\n",
              "      <td>...</td>\n",
              "      <td>...</td>\n",
              "      <td>...</td>\n",
              "      <td>...</td>\n",
              "      <td>...</td>\n",
              "    </tr>\n",
              "    <tr>\n",
              "      <th>52627</th>\n",
              "      <td>52627</td>\n",
              "      <td>Rated Blitz game</td>\n",
              "      <td>https://lichess.org/H1fPTKuL</td>\n",
              "      <td>2019.10.01</td>\n",
              "      <td>-</td>\n",
              "      <td>lamantinka</td>\n",
              "      <td>Revealchess</td>\n",
              "      <td>NaN</td>\n",
              "      <td>NaN</td>\n",
              "      <td>1-0</td>\n",
              "      <td>1749</td>\n",
              "      <td>-7.0</td>\n",
              "      <td>B40</td>\n",
              "      <td>Sicilian Defense: French Variation</td>\n",
              "      <td>Normal</td>\n",
              "      <td>180+2</td>\n",
              "      <td>2019.10.01</td>\n",
              "      <td>01:29:29</td>\n",
              "      <td>1780</td>\n",
              "      <td>6.0</td>\n",
              "      <td>e2e4,c7c5,g1f3,e7e6,b1c3,a7a6,a2a3,b8c6,d2d3,g...</td>\n",
              "      <td>e2e4</td>\n",
              "      <td>e2e4,c7c5</td>\n",
              "      <td>e2e4,c7c5,g1f3</td>\n",
              "      <td>e2e4,c7c5,g1f3,e7e6</td>\n",
              "    </tr>\n",
              "    <tr>\n",
              "      <th>52628</th>\n",
              "      <td>52628</td>\n",
              "      <td>Rated Blitz game</td>\n",
              "      <td>https://lichess.org/OIlqKkYv</td>\n",
              "      <td>2019.10.01</td>\n",
              "      <td>-</td>\n",
              "      <td>Quijano54</td>\n",
              "      <td>jcmatos</td>\n",
              "      <td>NaN</td>\n",
              "      <td>NaN</td>\n",
              "      <td>1-0</td>\n",
              "      <td>1450</td>\n",
              "      <td>-8.0</td>\n",
              "      <td>C64</td>\n",
              "      <td>Ruy Lopez: Classical Variation</td>\n",
              "      <td>Normal</td>\n",
              "      <td>180+2</td>\n",
              "      <td>2019.10.01</td>\n",
              "      <td>01:29:29</td>\n",
              "      <td>1421</td>\n",
              "      <td>8.0</td>\n",
              "      <td>e2e4,e7e5,g1f3,b8c6,f1b5,f8c5,b5c6,b7c6,e1g1,g...</td>\n",
              "      <td>e2e4</td>\n",
              "      <td>e2e4,e7e5</td>\n",
              "      <td>e2e4,e7e5,g1f3</td>\n",
              "      <td>e2e4,e7e5,g1f3,b8c6</td>\n",
              "    </tr>\n",
              "    <tr>\n",
              "      <th>52629</th>\n",
              "      <td>52629</td>\n",
              "      <td>Rated Blitz game</td>\n",
              "      <td>https://lichess.org/dXE6AFWz</td>\n",
              "      <td>2019.10.01</td>\n",
              "      <td>-</td>\n",
              "      <td>betterthankip</td>\n",
              "      <td>garid0s</td>\n",
              "      <td>NaN</td>\n",
              "      <td>NaN</td>\n",
              "      <td>0-1</td>\n",
              "      <td>1241</td>\n",
              "      <td>7.0</td>\n",
              "      <td>C00</td>\n",
              "      <td>French Defense: Steinitz Attack</td>\n",
              "      <td>Normal</td>\n",
              "      <td>180+2</td>\n",
              "      <td>2019.10.01</td>\n",
              "      <td>01:29:29</td>\n",
              "      <td>1214</td>\n",
              "      <td>-6.0</td>\n",
              "      <td>e2e4,e7e6,e4e5,b8c6,g1f3,d7d5,d2d4,g8e7,b2b3,e...</td>\n",
              "      <td>e2e4</td>\n",
              "      <td>e2e4,e7e6</td>\n",
              "      <td>e2e4,e7e6,e4e5</td>\n",
              "      <td>e2e4,e7e6,e4e5,b8c6</td>\n",
              "    </tr>\n",
              "    <tr>\n",
              "      <th>52630</th>\n",
              "      <td>52630</td>\n",
              "      <td>Rated Blitz game</td>\n",
              "      <td>https://lichess.org/YrDk4bRa</td>\n",
              "      <td>2019.10.01</td>\n",
              "      <td>-</td>\n",
              "      <td>DrKhaos</td>\n",
              "      <td>rogerio0308</td>\n",
              "      <td>NaN</td>\n",
              "      <td>NaN</td>\n",
              "      <td>0-1</td>\n",
              "      <td>1705</td>\n",
              "      <td>6.0</td>\n",
              "      <td>C50</td>\n",
              "      <td>Italian Game: Schilling-Kostic Gambit</td>\n",
              "      <td>Normal</td>\n",
              "      <td>180+2</td>\n",
              "      <td>2019.10.01</td>\n",
              "      <td>01:29:29</td>\n",
              "      <td>1669</td>\n",
              "      <td>-105.0</td>\n",
              "      <td>e2e4,e7e5,g1f3,b8c6,f1c4,c6d4,f3e5,d8g5,c4f7,e...</td>\n",
              "      <td>e2e4</td>\n",
              "      <td>e2e4,e7e5</td>\n",
              "      <td>e2e4,e7e5,g1f3</td>\n",
              "      <td>e2e4,e7e5,g1f3,b8c6</td>\n",
              "    </tr>\n",
              "    <tr>\n",
              "      <th>52631</th>\n",
              "      <td>52631</td>\n",
              "      <td>Rated Blitz game</td>\n",
              "      <td>https://lichess.org/x0xECyR4</td>\n",
              "      <td>2019.10.01</td>\n",
              "      <td>-</td>\n",
              "      <td>Shubhiiguptaa</td>\n",
              "      <td>Nihat0</td>\n",
              "      <td>NaN</td>\n",
              "      <td>NaN</td>\n",
              "      <td>0-1</td>\n",
              "      <td>1151</td>\n",
              "      <td>18.0</td>\n",
              "      <td>C20</td>\n",
              "      <td>King's Pawn Game: Leonardis Variation</td>\n",
              "      <td>Normal</td>\n",
              "      <td>180+2</td>\n",
              "      <td>2019.10.01</td>\n",
              "      <td>01:29:29</td>\n",
              "      <td>979</td>\n",
              "      <td>-4.0</td>\n",
              "      <td>e2e4,e7e5,d2d3,c7c6,c1e3,d7d5,e4d5,c6d5,d3d4,g...</td>\n",
              "      <td>e2e4</td>\n",
              "      <td>e2e4,e7e5</td>\n",
              "      <td>e2e4,e7e5,d2d3</td>\n",
              "      <td>e2e4,e7e5,d2d3,c7c6</td>\n",
              "    </tr>\n",
              "  </tbody>\n",
              "</table>\n",
              "<p>52632 rows × 25 columns</p>\n",
              "</div>"
            ],
            "text/plain": [
              "          ID              Event  ...          White2               Black2\n",
              "0          0  Rated Bullet game  ...  e2e4,b8c6,g1f3  e2e4,b8c6,g1f3,e7e5\n",
              "1          1  Rated Bullet game  ...  e2e4,d7d5,d1f3  e2e4,d7d5,d1f3,d5e4\n",
              "2          2  Rated Bullet game  ...  d2d4,g8f6,g1f3  d2d4,g8f6,g1f3,e7e5\n",
              "3          3  Rated Bullet game  ...  c2c4,b8c6,b1c3  c2c4,b8c6,b1c3,e7e5\n",
              "4          4  Rated Bullet game  ...  c2c4,g8f6,e2e3  c2c4,g8f6,e2e3,g7g6\n",
              "...      ...                ...  ...             ...                  ...\n",
              "52627  52627   Rated Blitz game  ...  e2e4,c7c5,g1f3  e2e4,c7c5,g1f3,e7e6\n",
              "52628  52628   Rated Blitz game  ...  e2e4,e7e5,g1f3  e2e4,e7e5,g1f3,b8c6\n",
              "52629  52629   Rated Blitz game  ...  e2e4,e7e6,e4e5  e2e4,e7e6,e4e5,b8c6\n",
              "52630  52630   Rated Blitz game  ...  e2e4,e7e5,g1f3  e2e4,e7e5,g1f3,b8c6\n",
              "52631  52631   Rated Blitz game  ...  e2e4,e7e5,d2d3  e2e4,e7e5,d2d3,c7c6\n",
              "\n",
              "[52632 rows x 25 columns]"
            ]
          },
          "metadata": {
            "tags": []
          },
          "execution_count": 147
        }
      ]
    },
    {
      "cell_type": "code",
      "metadata": {
        "id": "A36aqVYbOxS1"
      },
      "source": [
        "df_raw = df.copy()"
      ],
      "execution_count": null,
      "outputs": []
    },
    {
      "cell_type": "code",
      "metadata": {
        "id": "EvDqG20EOHpB",
        "outputId": "045197ca-e411-4ce0-cbd7-b547df9a947b",
        "colab": {
          "base_uri": "https://localhost:8080/",
          "height": 34
        }
      },
      "source": [
        "df_raw.shape"
      ],
      "execution_count": null,
      "outputs": [
        {
          "output_type": "execute_result",
          "data": {
            "text/plain": [
              "(52632, 25)"
            ]
          },
          "metadata": {
            "tags": []
          },
          "execution_count": 36
        }
      ]
    },
    {
      "cell_type": "code",
      "metadata": {
        "id": "5gJCZ_daOJrk"
      },
      "source": [
        "df_raw.dtypes"
      ],
      "execution_count": null,
      "outputs": []
    },
    {
      "cell_type": "markdown",
      "metadata": {
        "id": "0XCvdGY5ORXg"
      },
      "source": [
        "## **Data Processing**"
      ]
    },
    {
      "cell_type": "code",
      "metadata": {
        "id": "MVWETIolOKFu",
        "outputId": "e19f1300-8aad-4356-ba76-820a93418b81",
        "colab": {
          "base_uri": "https://localhost:8080/",
          "height": 469
        }
      },
      "source": [
        "df_raw.isna().sum()"
      ],
      "execution_count": null,
      "outputs": [
        {
          "output_type": "execute_result",
          "data": {
            "text/plain": [
              "ID                     0\n",
              "Event                  0\n",
              "Site                   0\n",
              "Date                   0\n",
              "Round                  0\n",
              "White                  0\n",
              "Black                  0\n",
              "WhiteTitle         52342\n",
              "BlackTitle         52358\n",
              "Result                 0\n",
              "BlackElo               0\n",
              "BlackRatingDiff       19\n",
              "ECO                    0\n",
              "Opening                0\n",
              "Termination            0\n",
              "TimeControl            0\n",
              "UTCDate                0\n",
              "UTCTime                0\n",
              "WhiteElo               0\n",
              "WhiteRatingDiff       19\n",
              "Moves                 80\n",
              "White1                80\n",
              "Black1               146\n",
              "White2               204\n",
              "Black2               239\n",
              "dtype: int64"
            ]
          },
          "metadata": {
            "tags": []
          },
          "execution_count": 132
        }
      ]
    },
    {
      "cell_type": "code",
      "metadata": {
        "id": "Vwqm0Qo46a2d"
      },
      "source": [
        "#Drop Columns\n",
        "df_raw.drop(['Site','Date','WhiteTitle','BlackTitle','Round'], axis=1, inplace=True)"
      ],
      "execution_count": null,
      "outputs": []
    },
    {
      "cell_type": "code",
      "metadata": {
        "id": "p97b2a2iBepP"
      },
      "source": [
        "#Drop Nan Values\n",
        "df_raw = df_raw.dropna(subset=['Moves','Black2','BlackRatingDiff','WhiteRatingDiff'], how='any')"
      ],
      "execution_count": null,
      "outputs": []
    },
    {
      "cell_type": "code",
      "metadata": {
        "id": "9m22C7nO1SbJ"
      },
      "source": [
        "#Remove Values that are not required for the following columns\n",
        "df_raw=df_raw[df_raw.Result!='*']\n",
        "df_raw=df_raw[df_raw.TimeControl!='-']\n",
        "df_raw=df_raw[df_raw.Termination!='Abandoned']"
      ],
      "execution_count": null,
      "outputs": []
    },
    {
      "cell_type": "code",
      "metadata": {
        "id": "AfsTdi_TjIAd",
        "outputId": "f66e45d3-a1ac-4a52-ff7b-b609868c4c2c",
        "colab": {
          "base_uri": "https://localhost:8080/",
          "height": 34
        }
      },
      "source": [
        "df_raw.shape"
      ],
      "execution_count": null,
      "outputs": [
        {
          "output_type": "execute_result",
          "data": {
            "text/plain": [
              "(52552, 23)"
            ]
          },
          "metadata": {
            "tags": []
          },
          "execution_count": 11
        }
      ]
    },
    {
      "cell_type": "code",
      "metadata": {
        "id": "jaNfIP7CjJuQ",
        "outputId": "1ae094a5-3785-43c2-9a2f-2f5259010c5a",
        "colab": {
          "base_uri": "https://localhost:8080/",
          "height": 374
        }
      },
      "source": [
        "df_raw.isna().sum()"
      ],
      "execution_count": null,
      "outputs": [
        {
          "output_type": "execute_result",
          "data": {
            "text/plain": [
              "ID                 0\n",
              "Event              0\n",
              "White              0\n",
              "Black              0\n",
              "Result             0\n",
              "BlackElo           0\n",
              "BlackRatingDiff    0\n",
              "ECO                0\n",
              "Opening            0\n",
              "Termination        0\n",
              "TimeControl        0\n",
              "UTCDate            0\n",
              "UTCTime            0\n",
              "WhiteElo           0\n",
              "WhiteRatingDiff    0\n",
              "Moves              0\n",
              "White1             0\n",
              "Black1             0\n",
              "White2             0\n",
              "Black2             0\n",
              "dtype: int64"
            ]
          },
          "metadata": {
            "tags": []
          },
          "execution_count": 11
        }
      ]
    },
    {
      "cell_type": "code",
      "metadata": {
        "id": "ux2vpr9FubC_",
        "outputId": "f254b5d5-24c1-4363-9516-f1d085ade310",
        "colab": {
          "base_uri": "https://localhost:8080/",
          "height": 225
        }
      },
      "source": [
        "df_raw['ELO_Class']=df_raw['ID']\n",
        "print(df_raw['ELO_Class'])"
      ],
      "execution_count": null,
      "outputs": [
        {
          "output_type": "stream",
          "text": [
            "0            0\n",
            "1            1\n",
            "2            2\n",
            "3            3\n",
            "4            4\n",
            "         ...  \n",
            "52627    52627\n",
            "52628    52628\n",
            "52629    52629\n",
            "52630    52630\n",
            "52631    52631\n",
            "Name: ELO_Class, Length: 52286, dtype: int64\n"
          ],
          "name": "stdout"
        }
      ]
    },
    {
      "cell_type": "code",
      "metadata": {
        "id": "8yv0lCA_D_Ap"
      },
      "source": [
        "df_white=df_raw.copy()\n",
        "df_black=df_raw.copy()"
      ],
      "execution_count": null,
      "outputs": []
    },
    {
      "cell_type": "code",
      "metadata": {
        "id": "uUQv-T0KGTXw",
        "outputId": "34962627-41a4-4c5f-c15a-4d84aa2370bd",
        "colab": {
          "base_uri": "https://localhost:8080/",
          "height": 372
        }
      },
      "source": [
        "sns.set()\n",
        "fig, ax =plt.subplots(1,2,figsize=(20,5),sharex=True)\n",
        "sns.distplot(df_raw['WhiteElo'], color='blue',kde=False, ax=ax[0]).set_title('White Player - ELO Scores')\n",
        "sns.distplot(df_raw['BlackElo'], color='red',kde=False, ax=ax[1]).set_title('Black Player - ELO Scores')"
      ],
      "execution_count": null,
      "outputs": [
        {
          "output_type": "execute_result",
          "data": {
            "text/plain": [
              "Text(0.5, 1.0, 'Black Player - ELO Scores')"
            ]
          },
          "metadata": {
            "tags": []
          },
          "execution_count": 137
        },
        {
          "output_type": "display_data",
          "data": {
            "image/png": "[encoded data removed]",
            "text/plain": [
              "<Figure size 1440x360 with 2 Axes>"
            ]
          },
          "metadata": {
            "tags": []
          }
        }
      ]
    },
    {
      "cell_type": "code",
      "metadata": {
        "id": "IegzZJ7bDQ8-"
      },
      "source": [
        "df_white.loc[df_white.WhiteElo<=1500, 'ELO_Class'] = \"Low Score\"\n",
        "df_white.loc[(df_white.WhiteElo>1500) & (df_white.WhiteElo<=2000), 'ELO_Class'] = \"Mid Score\"\n",
        "df_white.loc[df_white.WhiteElo>2000, 'ELO_Class'] = \"High Score\"\n",
        "\n",
        "df_black.loc[df_black.BlackElo<=1500, 'ELO_Class'] = \"Low Score\"\n",
        "df_black.loc[(df_black.BlackElo>1500) & (df_black.BlackElo<=2000), 'ELO_Class'] = \"Mid Score\"\n",
        "df_black.loc[df_black.BlackElo>2000, 'ELO_Class'] = \"High Score\""
      ],
      "execution_count": null,
      "outputs": []
    },
    {
      "cell_type": "code",
      "metadata": {
        "id": "hqoFI05XBtMx",
        "outputId": "7af3c74c-dcd7-4c3e-b686-674278363a99",
        "colab": {
          "base_uri": "https://localhost:8080/",
          "height": 197
        }
      },
      "source": [
        "fig = plt.figure(figsize=(19,5))\n",
        "fig.subplots_adjust(hspace=0.4, wspace=0.4)\n",
        "\n",
        "ax = fig.add_subplot(2, 2, 1)\n",
        "g = sns.countplot(data=df_white, x='ELO_Class').set(xlabel='ELO Score', ylabel='Frequency', title='White - Frequency of each ELO Class');\n",
        "ax = fig.add_subplot(2, 2, 2)\n",
        "g = sns.countplot(data=df_white, x='ELO_Class').set(xlabel='ELO Score', ylabel='Frequency', title='Black - Frequency of each ELO Class');\n",
        "\n",
        "plt.show()"
      ],
      "execution_count": null,
      "outputs": [
        {
          "output_type": "display_data",
          "data": {
            "image/png": "[encoded data removed]",
            "text/plain": [
              "<Figure size 1368x360 with 2 Axes>"
            ]
          },
          "metadata": {
            "tags": []
          }
        }
      ]
    },
    {
      "cell_type": "code",
      "metadata": {
        "id": "II-6rgV37VoY"
      },
      "source": [
        "target_white = df_white['ELO_Class']\n",
        "target_black = df_black['ELO_Class']\n",
        "\n",
        "df_white.drop(['ELO_Class'], axis=1, inplace=True)\n",
        "df_black.drop(['ELO_Class'], axis=1, inplace=True)"
      ],
      "execution_count": null,
      "outputs": []
    },
    {
      "cell_type": "code",
      "metadata": {
        "id": "G4bNhReC6m7k"
      },
      "source": [
        "# Label Encoding\n",
        "\n",
        "# For training set\n",
        "# Categorical boolean mask\n",
        "cat_ft1 = df_white.dtypes==object\n",
        "# filter categorical columns using mask and turn it into a list\n",
        "cat_cols1 = df_white.columns[cat_ft1].tolist()\n",
        "# instantiate labelencoder object\n",
        "le = LabelEncoder()\n",
        "# apply le on categorical feature columns\n",
        "df_white[cat_cols1] = df_white[cat_cols1].apply(lambda col: le.fit_transform(col.astype(str)))"
      ],
      "execution_count": null,
      "outputs": []
    },
    {
      "cell_type": "code",
      "metadata": {
        "id": "KUv-Atfi6nJ1"
      },
      "source": [
        "# Label Encoding\n",
        "\n",
        "# For training set\n",
        "# Categorical boolean mask\n",
        "cat_ft1 = df_black.dtypes==object\n",
        "# filter categorical columns using mask and turn it into a list\n",
        "cat_cols1 = df_black.columns[cat_ft1].tolist()\n",
        "# instantiate labelencoder object\n",
        "le = LabelEncoder()\n",
        "# apply le on categorical feature columns\n",
        "df_black[cat_cols1] = df_black[cat_cols1].apply(lambda col: le.fit_transform(col.astype(str)))"
      ],
      "execution_count": null,
      "outputs": []
    },
    {
      "cell_type": "code",
      "metadata": {
        "id": "O3UtUmIXQAwI"
      },
      "source": [
        "# Label Encoding\n",
        "\n",
        "# For training set\n",
        "# Categorical boolean mask\n",
        "cat_ft1 = df_raw.dtypes==object\n",
        "# filter categorical columns using mask and turn it into a list\n",
        "cat_cols1 = df_raw.columns[cat_ft1].tolist()\n",
        "# instantiate labelencoder object\n",
        "le = LabelEncoder()\n",
        "# apply le on categorical feature columns\n",
        "df_raw[cat_cols1] = df_raw[cat_cols1].apply(lambda col: le.fit_transform(col.astype(str)))"
      ],
      "execution_count": null,
      "outputs": []
    },
    {
      "cell_type": "code",
      "metadata": {
        "id": "BreuB8fB5w4n"
      },
      "source": [
        "df_raw"
      ],
      "execution_count": null,
      "outputs": []
    },
    {
      "cell_type": "markdown",
      "metadata": {
        "id": "IHNmFeadOVm4"
      },
      "source": [
        "## **Analysis**"
      ]
    },
    {
      "cell_type": "markdown",
      "metadata": {
        "id": "hEPfagvROhyB"
      },
      "source": [
        "### **Features**"
      ]
    },
    {
      "cell_type": "code",
      "metadata": {
        "id": "6S4xb0ysP8dc"
      },
      "source": [
        "# Select Best Features based on best prediction for target = ELO Score\n",
        "\n",
        "# Data\n",
        "X1 = df_raw.iloc[:, [1,4,7,8,9,10,14]]  # Independent columns\n",
        "Y1 = df_raw.iloc[:, 13]          # Target column i.e White ELO\n",
        "\n",
        "X2 = df_raw.iloc[:, [1,4,6,7,8,9,10]]  # Independent columns\n",
        "Y2 = df_raw.iloc[:, 5]          # Target column i.e Black ELO"
      ],
      "execution_count": null,
      "outputs": []
    },
    {
      "cell_type": "code",
      "metadata": {
        "id": "qd2w1XTIe0eF",
        "outputId": "8421d3b9-481d-4731-deef-2d122df21a8a",
        "colab": {
          "base_uri": "https://localhost:8080/",
          "height": 190
        }
      },
      "source": [
        "# Build Model\n",
        "model1 = ExtraTreesClassifier()\n",
        "model1.fit(X1,Y1)"
      ],
      "execution_count": null,
      "outputs": [
        {
          "output_type": "stream",
          "text": [
            "/usr/local/lib/python3.6/dist-packages/sklearn/ensemble/forest.py:245: FutureWarning: The default value of n_estimators will change from 10 in version 0.20 to 100 in 0.22.\n",
            "  \"10 in version 0.20 to 100 in 0.22.\", FutureWarning)\n"
          ],
          "name": "stderr"
        },
        {
          "output_type": "execute_result",
          "data": {
            "text/plain": [
              "ExtraTreesClassifier(bootstrap=False, class_weight=None, criterion='gini',\n",
              "                     max_depth=None, max_features='auto', max_leaf_nodes=None,\n",
              "                     min_impurity_decrease=0.0, min_impurity_split=None,\n",
              "                     min_samples_leaf=1, min_samples_split=2,\n",
              "                     min_weight_fraction_leaf=0.0, n_estimators=10, n_jobs=None,\n",
              "                     oob_score=False, random_state=None, verbose=0,\n",
              "                     warm_start=False)"
            ]
          },
          "metadata": {
            "tags": []
          },
          "execution_count": 12
        }
      ]
    },
    {
      "cell_type": "code",
      "metadata": {
        "id": "nYW7d2XkE-A5",
        "outputId": "912dafbc-decc-4a56-a067-85b8ff4775bd",
        "colab": {
          "base_uri": "https://localhost:8080/",
          "height": 271
        }
      },
      "source": [
        "# Plot graph of feature importances for better visualization\n",
        "feat_importances1 = pd.Series(model1.feature_importances_, index=X1.columns)\n",
        "feat_importances1.plot(kind='barh')\n",
        "plt.show()"
      ],
      "execution_count": null,
      "outputs": [
        {
          "output_type": "display_data",
          "data": {
            "image/png": "[encoded data removed]",
            "text/plain": [
              "<Figure size 432x288 with 1 Axes>"
            ]
          },
          "metadata": {
            "tags": []
          }
        }
      ]
    },
    {
      "cell_type": "code",
      "metadata": {
        "id": "mCZeF_IqAVwO",
        "outputId": "6bfb4a5c-962e-4952-ded7-a314dd13e7ad",
        "colab": {
          "base_uri": "https://localhost:8080/",
          "height": 71
        }
      },
      "source": [
        "# Build Model\n",
        "model2 = ExtraTreesClassifier()\n",
        "model2.fit(X2,Y2)"
      ],
      "execution_count": null,
      "outputs": [
        {
          "output_type": "stream",
          "text": [
            "/usr/local/lib/python3.6/dist-packages/sklearn/ensemble/forest.py:245: FutureWarning: The default value of n_estimators will change from 10 in version 0.20 to 100 in 0.22.\n",
            "  \"10 in version 0.20 to 100 in 0.22.\", FutureWarning)\n"
          ],
          "name": "stderr"
        }
      ]
    },
    {
      "cell_type": "code",
      "metadata": {
        "id": "jxACA7YcFEJE"
      },
      "source": [
        "# Plot graph of feature importances for better visualization\n",
        "feat_importances2 = pd.Series(model2.feature_importances_, index=X2.columns)\n",
        "feat_importances2.nlargest(8).plot(kind='barh')\n",
        "plt.show()"
      ],
      "execution_count": null,
      "outputs": []
    },
    {
      "cell_type": "code",
      "metadata": {
        "id": "EkzaIk-oe-92",
        "outputId": "aca42ce1-87cd-47c1-9558-6bcd77165386",
        "colab": {
          "base_uri": "https://localhost:8080/",
          "height": 976
        }
      },
      "source": [
        "# Get Correlation - White\n",
        "\n",
        "# Select 15 Features\n",
        "cols1 = list(feat_importances1.index)\n",
        "\n",
        "# Add SalePrice to Best Features to compare correlation\n",
        "cols1.append('WhiteElo')\n",
        "temp_df1 = (df_raw[cols1]).copy()\n",
        "\n",
        "# Find Correlation\n",
        "corrmat1 = temp_df1.corr()\n",
        "top_corr_features1 = corrmat1.index\n",
        "\n",
        "# Plot Heat Map\n",
        "plt.figure(figsize=(15,15))\n",
        "sns.heatmap(temp_df1[top_corr_features1].corr(),annot=True,cmap=\"RdYlGn\")"
      ],
      "execution_count": null,
      "outputs": [
        {
          "output_type": "execute_result",
          "data": {
            "text/plain": [
              "<matplotlib.axes._subplots.AxesSubplot at 0x7fd3aff50358>"
            ]
          },
          "metadata": {
            "tags": []
          },
          "execution_count": 20
        },
        {
          "output_type": "display_data",
          "data": {
            "image/png": "[encoded data removed]",
            "text/plain": [
              "<Figure size 1080x1080 with 2 Axes>"
            ]
          },
          "metadata": {
            "tags": []
          }
        }
      ]
    },
    {
      "cell_type": "code",
      "metadata": {
        "id": "EZmESjWYGr7K"
      },
      "source": [
        "# Get Correlation - Black\n",
        "\n",
        "# Select 15 Features\n",
        "cols2 = list(feat_importances2.index)\n",
        "\n",
        "# Add SalePrice to Best Features to compare correlation\n",
        "cols2.append('BlackElo')\n",
        "temp_df2 = (df_raw[cols2]).copy()\n",
        "\n",
        "# Find Correlation\n",
        "corrmat2 = temp_df2.corr()\n",
        "top_corr_features2 = corrmat2.index\n",
        "\n",
        "# Plot Heat Map\n",
        "plt.figure(figsize=(17,10))\n",
        "sns.heatmap(temp_df2[top_corr_features2].corr(),annot=True,cmap=\"RdYlGn\").set(title='Correlation of features with Black ELO Score')"
      ],
      "execution_count": null,
      "outputs": []
    },
    {
      "cell_type": "markdown",
      "metadata": {
        "id": "qkWj602COZDc"
      },
      "source": [
        "### **Event**"
      ]
    },
    {
      "cell_type": "code",
      "metadata": {
        "id": "wPCbs5WiRSMP"
      },
      "source": [
        "temp = df.copy()"
      ],
      "execution_count": null,
      "outputs": []
    },
    {
      "cell_type": "code",
      "metadata": {
        "id": "XnLOqui_hfc2"
      },
      "source": [
        "temp"
      ],
      "execution_count": null,
      "outputs": []
    },
    {
      "cell_type": "code",
      "metadata": {
        "id": "Y2-tRM0uSLXO",
        "outputId": "bea76470-0b2f-4fa5-d038-6fc4074b3071",
        "colab": {
          "base_uri": "https://localhost:8080/",
          "height": 227
        }
      },
      "source": [
        "count  = temp['Event'].value_counts()\n",
        "pd.DataFrame({'Event': count.index, 'Frequency':count.values})"
      ],
      "execution_count": null,
      "outputs": [
        {
          "output_type": "execute_result",
          "data": {
            "text/html": [
              "<div>\n",
              "<style scoped>\n",
              "    .dataframe tbody tr th:only-of-type {\n",
              "        vertical-align: middle;\n",
              "    }\n",
              "\n",
              "    .dataframe tbody tr th {\n",
              "        vertical-align: top;\n",
              "    }\n",
              "\n",
              "    .dataframe thead th {\n",
              "        text-align: right;\n",
              "    }\n",
              "</style>\n",
              "<table border=\"1\" class=\"dataframe\">\n",
              "  <thead>\n",
              "    <tr style=\"text-align: right;\">\n",
              "      <th></th>\n",
              "      <th>Event</th>\n",
              "      <th>Frequency</th>\n",
              "    </tr>\n",
              "  </thead>\n",
              "  <tbody>\n",
              "    <tr>\n",
              "      <th>0</th>\n",
              "      <td>Blitz</td>\n",
              "      <td>24708</td>\n",
              "    </tr>\n",
              "    <tr>\n",
              "      <th>1</th>\n",
              "      <td>Bullet</td>\n",
              "      <td>19738</td>\n",
              "    </tr>\n",
              "    <tr>\n",
              "      <th>2</th>\n",
              "      <td>Rapid</td>\n",
              "      <td>6034</td>\n",
              "    </tr>\n",
              "    <tr>\n",
              "      <th>3</th>\n",
              "      <td>Classical</td>\n",
              "      <td>1662</td>\n",
              "    </tr>\n",
              "    <tr>\n",
              "      <th>4</th>\n",
              "      <td>UltraBullet</td>\n",
              "      <td>387</td>\n",
              "    </tr>\n",
              "    <tr>\n",
              "      <th>5</th>\n",
              "      <td>Correspondence</td>\n",
              "      <td>103</td>\n",
              "    </tr>\n",
              "  </tbody>\n",
              "</table>\n",
              "</div>"
            ],
            "text/plain": [
              "            Event  Frequency\n",
              "0           Blitz      24708\n",
              "1          Bullet      19738\n",
              "2           Rapid       6034\n",
              "3       Classical       1662\n",
              "4     UltraBullet        387\n",
              "5  Correspondence        103"
            ]
          },
          "metadata": {
            "tags": []
          },
          "execution_count": 219
        }
      ]
    },
    {
      "cell_type": "code",
      "metadata": {
        "id": "1UMW-eXDOYLs",
        "outputId": "105b177e-7387-4ea2-cfe8-713e04400d21",
        "colab": {
          "base_uri": "https://localhost:8080/",
          "height": 51
        }
      },
      "source": [
        "for i, row in temp.iterrows():\n",
        "  split = (temp['Event'][i]).split()\n",
        "  temp.set_value(i,'Event', split[1])"
      ],
      "execution_count": null,
      "outputs": [
        {
          "output_type": "stream",
          "text": [
            "/usr/local/lib/python3.6/dist-packages/ipykernel_launcher.py:3: FutureWarning: set_value is deprecated and will be removed in a future release. Please use .at[] or .iat[] accessors instead\n",
            "  This is separate from the ipykernel package so we can avoid doing imports until\n"
          ],
          "name": "stderr"
        }
      ]
    },
    {
      "cell_type": "code",
      "metadata": {
        "id": "f8DfXsrKR9TF",
        "outputId": "04a5a211-fdb8-47d2-955d-7c24c330bb05",
        "colab": {
          "base_uri": "https://localhost:8080/",
          "height": 355
        }
      },
      "source": [
        "fig = plt.figure(figsize=(19,5))\n",
        "g = sns.countplot(data=temp, x='Event').set(xlabel='Event', ylabel='Frequency', title='Frequency of each Game Type');"
      ],
      "execution_count": null,
      "outputs": [
        {
          "output_type": "display_data",
          "data": {
            "image/png": "[encoded data removed]",
            "text/plain": [
              "<Figure size 1368x360 with 1 Axes>"
            ]
          },
          "metadata": {
            "tags": []
          }
        }
      ]
    },
    {
      "cell_type": "markdown",
      "metadata": {
        "id": "1P-wHvyyOcR2"
      },
      "source": [
        "### **Time Control**"
      ]
    },
    {
      "cell_type": "code",
      "metadata": {
        "id": "Pkzg_O4iXWfr",
        "outputId": "f551fdfa-7186-4eb0-976e-be61fdf28a01",
        "colab": {
          "base_uri": "https://localhost:8080/",
          "height": 419
        }
      },
      "source": [
        "count  = temp['TimeControl'].value_counts()\n",
        "pd.DataFrame({'TimeControl': count.index, 'Frequency':count.values})"
      ],
      "execution_count": null,
      "outputs": [
        {
          "output_type": "execute_result",
          "data": {
            "text/html": [
              "<div>\n",
              "<style scoped>\n",
              "    .dataframe tbody tr th:only-of-type {\n",
              "        vertical-align: middle;\n",
              "    }\n",
              "\n",
              "    .dataframe tbody tr th {\n",
              "        vertical-align: top;\n",
              "    }\n",
              "\n",
              "    .dataframe thead th {\n",
              "        text-align: right;\n",
              "    }\n",
              "</style>\n",
              "<table border=\"1\" class=\"dataframe\">\n",
              "  <thead>\n",
              "    <tr style=\"text-align: right;\">\n",
              "      <th></th>\n",
              "      <th>TimeControl</th>\n",
              "      <th>Frequency</th>\n",
              "    </tr>\n",
              "  </thead>\n",
              "  <tbody>\n",
              "    <tr>\n",
              "      <th>0</th>\n",
              "      <td>60+0</td>\n",
              "      <td>14751</td>\n",
              "    </tr>\n",
              "    <tr>\n",
              "      <th>1</th>\n",
              "      <td>180+0</td>\n",
              "      <td>9861</td>\n",
              "    </tr>\n",
              "    <tr>\n",
              "      <th>2</th>\n",
              "      <td>300+0</td>\n",
              "      <td>8624</td>\n",
              "    </tr>\n",
              "    <tr>\n",
              "      <th>3</th>\n",
              "      <td>600+0</td>\n",
              "      <td>5022</td>\n",
              "    </tr>\n",
              "    <tr>\n",
              "      <th>4</th>\n",
              "      <td>120+1</td>\n",
              "      <td>3869</td>\n",
              "    </tr>\n",
              "    <tr>\n",
              "      <th>...</th>\n",
              "      <td>...</td>\n",
              "      <td>...</td>\n",
              "    </tr>\n",
              "    <tr>\n",
              "      <th>159</th>\n",
              "      <td>660+12</td>\n",
              "      <td>1</td>\n",
              "    </tr>\n",
              "    <tr>\n",
              "      <th>160</th>\n",
              "      <td>480+2</td>\n",
              "      <td>1</td>\n",
              "    </tr>\n",
              "    <tr>\n",
              "      <th>161</th>\n",
              "      <td>45+1</td>\n",
              "      <td>1</td>\n",
              "    </tr>\n",
              "    <tr>\n",
              "      <th>162</th>\n",
              "      <td>780+7</td>\n",
              "      <td>1</td>\n",
              "    </tr>\n",
              "    <tr>\n",
              "      <th>163</th>\n",
              "      <td>540+13</td>\n",
              "      <td>1</td>\n",
              "    </tr>\n",
              "  </tbody>\n",
              "</table>\n",
              "<p>164 rows × 2 columns</p>\n",
              "</div>"
            ],
            "text/plain": [
              "    TimeControl  Frequency\n",
              "0          60+0      14751\n",
              "1         180+0       9861\n",
              "2         300+0       8624\n",
              "3         600+0       5022\n",
              "4         120+1       3869\n",
              "..          ...        ...\n",
              "159      660+12          1\n",
              "160       480+2          1\n",
              "161        45+1          1\n",
              "162       780+7          1\n",
              "163      540+13          1\n",
              "\n",
              "[164 rows x 2 columns]"
            ]
          },
          "metadata": {
            "tags": []
          },
          "execution_count": 97
        }
      ]
    },
    {
      "cell_type": "code",
      "metadata": {
        "id": "t2Gn0etTYb6O"
      },
      "source": [
        "temp['TimeControl'] = temp['TimeControl'].str.replace('-','0+0')"
      ],
      "execution_count": null,
      "outputs": []
    },
    {
      "cell_type": "code",
      "metadata": {
        "id": "vw3JNJq-Oenb",
        "outputId": "5bc3a9ed-2a9f-492a-db83-96fa76ab8460",
        "colab": {
          "base_uri": "https://localhost:8080/",
          "height": 51
        }
      },
      "source": [
        "for i, row in temp.iterrows():\n",
        "  split = str(temp['TimeControl'][i]).split('+')\n",
        "  left = float(split[0])/60\n",
        "  right = float(split[1])*40/60\n",
        "  total = left+right\n",
        "  temp.set_value(i,'TimeControl', total)"
      ],
      "execution_count": null,
      "outputs": [
        {
          "output_type": "stream",
          "text": [
            "/usr/local/lib/python3.6/dist-packages/ipykernel_launcher.py:6: FutureWarning: set_value is deprecated and will be removed in a future release. Please use .at[] or .iat[] accessors instead\n",
            "  \n"
          ],
          "name": "stderr"
        }
      ]
    },
    {
      "cell_type": "code",
      "metadata": {
        "id": "lqP2p03kWVWL",
        "outputId": "98040998-9a26-44ff-d2f2-3b82ce396fdc",
        "colab": {
          "base_uri": "https://localhost:8080/",
          "height": 536
        }
      },
      "source": [
        "fig = plt.figure(figsize=(25,20))\n",
        "fig.subplots_adjust(hspace=0.4, wspace=0.4)\n",
        "\n",
        "ax = fig.add_subplot(2, 2, 1)\n",
        "sns.boxplot(data=temp.query('TimeControl<25'), x=\"Event\", y=\"TimeControl\").set(title='Time Control Range for each Event (Except Classic Game)')\n",
        "ax = fig.add_subplot(2, 2, 2)\n",
        "sns.boxplot(data=temp.query('TimeControl>=25'), x=\"Event\", y=\"TimeControl\").set(title='Time Control Range for Classical Games')\n",
        "\n",
        "plt.show()"
      ],
      "execution_count": null,
      "outputs": [
        {
          "output_type": "display_data",
          "data": {
            "image/png": "[encoded data removed]",
            "text/plain": [
              "<Figure size 1800x1440 with 2 Axes>"
            ]
          },
          "metadata": {
            "tags": []
          }
        }
      ]
    },
    {
      "cell_type": "markdown",
      "metadata": {
        "id": "vlqT82g5iKN0"
      },
      "source": [
        "### **Moves**"
      ]
    },
    {
      "cell_type": "code",
      "metadata": {
        "id": "QTIDNL66jP5q",
        "outputId": "ef0ad8dc-41ba-470e-90bf-7e280063163a",
        "colab": {
          "base_uri": "https://localhost:8080/",
          "height": 358
        }
      },
      "source": [
        "fig = plt.figure(figsize=(20,5))\n",
        "sns.countplot(data=temp, x='White1').set(xlabel='Moves', ylabel='Frequency', title='White - 1st Move');"
      ],
      "execution_count": null,
      "outputs": [
        {
          "output_type": "display_data",
          "data": {
            "image/png": "[encoded data removed]",
            "text/plain": [
              "<Figure size 1440x360 with 1 Axes>"
            ]
          },
          "metadata": {
            "tags": []
          }
        }
      ]
    },
    {
      "cell_type": "code",
      "metadata": {
        "id": "ueKbTwpKjZVk",
        "outputId": "16ea1ad4-189c-48ba-8345-57e43ef09fe8",
        "colab": {
          "base_uri": "https://localhost:8080/",
          "height": 419
        }
      },
      "source": [
        "count  = temp['Black1'].value_counts()\n",
        "pd.DataFrame({'Black1': count.index, 'Frequency':count.values})"
      ],
      "execution_count": null,
      "outputs": [
        {
          "output_type": "execute_result",
          "data": {
            "text/html": [
              "<div>\n",
              "<style scoped>\n",
              "    .dataframe tbody tr th:only-of-type {\n",
              "        vertical-align: middle;\n",
              "    }\n",
              "\n",
              "    .dataframe tbody tr th {\n",
              "        vertical-align: top;\n",
              "    }\n",
              "\n",
              "    .dataframe thead th {\n",
              "        text-align: right;\n",
              "    }\n",
              "</style>\n",
              "<table border=\"1\" class=\"dataframe\">\n",
              "  <thead>\n",
              "    <tr style=\"text-align: right;\">\n",
              "      <th></th>\n",
              "      <th>Black1</th>\n",
              "      <th>Frequency</th>\n",
              "    </tr>\n",
              "  </thead>\n",
              "  <tbody>\n",
              "    <tr>\n",
              "      <th>0</th>\n",
              "      <td>e2e4,e7e5</td>\n",
              "      <td>11479</td>\n",
              "    </tr>\n",
              "    <tr>\n",
              "      <th>1</th>\n",
              "      <td>e2e4,c7c5</td>\n",
              "      <td>6641</td>\n",
              "    </tr>\n",
              "    <tr>\n",
              "      <th>2</th>\n",
              "      <td>d2d4,d7d5</td>\n",
              "      <td>5276</td>\n",
              "    </tr>\n",
              "    <tr>\n",
              "      <th>3</th>\n",
              "      <td>e2e4,e7e6</td>\n",
              "      <td>3201</td>\n",
              "    </tr>\n",
              "    <tr>\n",
              "      <th>4</th>\n",
              "      <td>e2e4,d7d5</td>\n",
              "      <td>2939</td>\n",
              "    </tr>\n",
              "    <tr>\n",
              "      <th>...</th>\n",
              "      <td>...</td>\n",
              "      <td>...</td>\n",
              "    </tr>\n",
              "    <tr>\n",
              "      <th>271</th>\n",
              "      <td>f2f3,b7b6</td>\n",
              "      <td>1</td>\n",
              "    </tr>\n",
              "    <tr>\n",
              "      <th>272</th>\n",
              "      <td>a2a3,a7a5</td>\n",
              "      <td>1</td>\n",
              "    </tr>\n",
              "    <tr>\n",
              "      <th>273</th>\n",
              "      <td>a2a4,b8c6</td>\n",
              "      <td>1</td>\n",
              "    </tr>\n",
              "    <tr>\n",
              "      <th>274</th>\n",
              "      <td>f2f3,c7c6</td>\n",
              "      <td>1</td>\n",
              "    </tr>\n",
              "    <tr>\n",
              "      <th>275</th>\n",
              "      <td>g2g3,a7a5</td>\n",
              "      <td>1</td>\n",
              "    </tr>\n",
              "  </tbody>\n",
              "</table>\n",
              "<p>276 rows × 2 columns</p>\n",
              "</div>"
            ],
            "text/plain": [
              "        Black1  Frequency\n",
              "0    e2e4,e7e5      11479\n",
              "1    e2e4,c7c5       6641\n",
              "2    d2d4,d7d5       5276\n",
              "3    e2e4,e7e6       3201\n",
              "4    e2e4,d7d5       2939\n",
              "..         ...        ...\n",
              "271  f2f3,b7b6          1\n",
              "272  a2a3,a7a5          1\n",
              "273  a2a4,b8c6          1\n",
              "274  f2f3,c7c6          1\n",
              "275  g2g3,a7a5          1\n",
              "\n",
              "[276 rows x 2 columns]"
            ]
          },
          "metadata": {
            "tags": []
          },
          "execution_count": 103
        }
      ]
    },
    {
      "cell_type": "code",
      "metadata": {
        "id": "2dkaA4qPiMSE",
        "outputId": "a7a46fa6-d31e-43d3-9850-bdb67b09dfc0",
        "colab": {
          "base_uri": "https://localhost:8080/",
          "height": 358
        }
      },
      "source": [
        "fig = plt.figure(figsize=(20,5))\n",
        "sns.countplot(data=temp, x='White1', hue='Result').set(xlabel='White - 1st Move', ylabel='Frequency', title='Opening Move');"
      ],
      "execution_count": null,
      "outputs": [
        {
          "output_type": "display_data",
          "data": {
            "image/png": "[encoded data removed]",
            "text/plain": [
              "<Figure size 1440x360 with 1 Axes>"
            ]
          },
          "metadata": {
            "tags": []
          }
        }
      ]
    },
    {
      "cell_type": "markdown",
      "metadata": {
        "id": "uJZTlfK3ibG_"
      },
      "source": [
        "### **Result**"
      ]
    },
    {
      "cell_type": "code",
      "metadata": {
        "id": "gUQB15QCidhz",
        "outputId": "dba60eca-aeef-4c7b-a01a-3e9734c6825a",
        "colab": {
          "base_uri": "https://localhost:8080/",
          "height": 358
        }
      },
      "source": [
        "fig = plt.figure(figsize=(10,5))\n",
        "sns.countplot(data=temp, x='Result').set(xlabel='Result', ylabel='Count', title='Count of Game End Status');"
      ],
      "execution_count": null,
      "outputs": [
        {
          "output_type": "display_data",
          "data": {
            "image/png": "[encoded data removed]",
            "text/plain": [
              "<Figure size 720x360 with 1 Axes>"
            ]
          },
          "metadata": {
            "tags": []
          }
        }
      ]
    },
    {
      "cell_type": "markdown",
      "metadata": {
        "id": "m5Qnn1ajqnpV"
      },
      "source": [
        "### **Opening Moves**"
      ]
    },
    {
      "cell_type": "code",
      "metadata": {
        "id": "tYDnXAKdqrKt",
        "outputId": "46973763-f860-44ba-c9d9-dbeb5cb18e98",
        "colab": {
          "base_uri": "https://localhost:8080/",
          "height": 406
        }
      },
      "source": [
        "count  = temp['Opening'].value_counts()\n",
        "pd.DataFrame({'Opening Move': count.index, 'Frequency':count.values})"
      ],
      "execution_count": null,
      "outputs": [
        {
          "output_type": "execute_result",
          "data": {
            "text/html": [
              "<div>\n",
              "<style scoped>\n",
              "    .dataframe tbody tr th:only-of-type {\n",
              "        vertical-align: middle;\n",
              "    }\n",
              "\n",
              "    .dataframe tbody tr th {\n",
              "        vertical-align: top;\n",
              "    }\n",
              "\n",
              "    .dataframe thead th {\n",
              "        text-align: right;\n",
              "    }\n",
              "</style>\n",
              "<table border=\"1\" class=\"dataframe\">\n",
              "  <thead>\n",
              "    <tr style=\"text-align: right;\">\n",
              "      <th></th>\n",
              "      <th>Opening Move</th>\n",
              "      <th>Frequency</th>\n",
              "    </tr>\n",
              "  </thead>\n",
              "  <tbody>\n",
              "    <tr>\n",
              "      <th>0</th>\n",
              "      <td>Modern Defense</td>\n",
              "      <td>1043</td>\n",
              "    </tr>\n",
              "    <tr>\n",
              "      <th>1</th>\n",
              "      <td>Van't Kruijs Opening</td>\n",
              "      <td>1020</td>\n",
              "    </tr>\n",
              "    <tr>\n",
              "      <th>2</th>\n",
              "      <td>Scandinavian Defense: Mieses-Kotroc Variation</td>\n",
              "      <td>958</td>\n",
              "    </tr>\n",
              "    <tr>\n",
              "      <th>3</th>\n",
              "      <td>Queen's Pawn Game: Mason Attack</td>\n",
              "      <td>774</td>\n",
              "    </tr>\n",
              "    <tr>\n",
              "      <th>4</th>\n",
              "      <td>Sicilian Defense</td>\n",
              "      <td>770</td>\n",
              "    </tr>\n",
              "    <tr>\n",
              "      <th>...</th>\n",
              "      <td>...</td>\n",
              "      <td>...</td>\n",
              "    </tr>\n",
              "    <tr>\n",
              "      <th>1832</th>\n",
              "      <td>Philidor Defense: Lion Variation, Lion's Claw II</td>\n",
              "      <td>1</td>\n",
              "    </tr>\n",
              "    <tr>\n",
              "      <th>1833</th>\n",
              "      <td>Queen's Indian Defense: Classical Variation, T...</td>\n",
              "      <td>1</td>\n",
              "    </tr>\n",
              "    <tr>\n",
              "      <th>1834</th>\n",
              "      <td>Caro-Kann Defense: Finnish Variation</td>\n",
              "      <td>1</td>\n",
              "    </tr>\n",
              "    <tr>\n",
              "      <th>1835</th>\n",
              "      <td>Queen's Indian Defense: Fianchetto Variation, ...</td>\n",
              "      <td>1</td>\n",
              "    </tr>\n",
              "    <tr>\n",
              "      <th>1836</th>\n",
              "      <td>Sicilian Defense: Richter-Rauzer Variation, Dr...</td>\n",
              "      <td>1</td>\n",
              "    </tr>\n",
              "  </tbody>\n",
              "</table>\n",
              "<p>1837 rows × 2 columns</p>\n",
              "</div>"
            ],
            "text/plain": [
              "                                           Opening Move  Frequency\n",
              "0                                        Modern Defense       1043\n",
              "1                                  Van't Kruijs Opening       1020\n",
              "2         Scandinavian Defense: Mieses-Kotroc Variation        958\n",
              "3                       Queen's Pawn Game: Mason Attack        774\n",
              "4                                      Sicilian Defense        770\n",
              "...                                                 ...        ...\n",
              "1832   Philidor Defense: Lion Variation, Lion's Claw II          1\n",
              "1833  Queen's Indian Defense: Classical Variation, T...          1\n",
              "1834               Caro-Kann Defense: Finnish Variation          1\n",
              "1835  Queen's Indian Defense: Fianchetto Variation, ...          1\n",
              "1836  Sicilian Defense: Richter-Rauzer Variation, Dr...          1\n",
              "\n",
              "[1837 rows x 2 columns]"
            ]
          },
          "metadata": {
            "tags": []
          },
          "execution_count": 120
        }
      ]
    },
    {
      "cell_type": "markdown",
      "metadata": {
        "id": "mRyBtvJ2sJAf"
      },
      "source": [
        "### **Termination**"
      ]
    },
    {
      "cell_type": "code",
      "metadata": {
        "id": "3xNn-zWRsK1q",
        "outputId": "0de331d8-c494-48f9-9783-4ab1277044ac",
        "colab": {
          "base_uri": "https://localhost:8080/",
          "height": 339
        }
      },
      "source": [
        "fig = plt.figure(figsize=(10,5))\n",
        "sns.countplot(data=temp, x='Termination').set(xlabel='Cause of Termination', ylabel='Frequency');"
      ],
      "execution_count": null,
      "outputs": [
        {
          "output_type": "display_data",
          "data": {
            "image/png": "[encoded data removed]",
            "text/plain": [
              "<Figure size 720x360 with 1 Axes>"
            ]
          },
          "metadata": {
            "tags": []
          }
        }
      ]
    },
    {
      "cell_type": "markdown",
      "metadata": {
        "id": "RYFiNopJtsCU"
      },
      "source": [
        "### **ECO**"
      ]
    },
    {
      "cell_type": "code",
      "metadata": {
        "id": "X46VJdIhttvr",
        "outputId": "dac0c17e-f2dd-444b-bb83-e2585a3bb2cb",
        "colab": {
          "base_uri": "https://localhost:8080/",
          "height": 406
        }
      },
      "source": [
        "count  = temp['ECO'].value_counts()\n",
        "pd.DataFrame({'ECO': count.index, 'Frequency':count.values})"
      ],
      "execution_count": null,
      "outputs": [
        {
          "output_type": "execute_result",
          "data": {
            "text/html": [
              "<div>\n",
              "<style scoped>\n",
              "    .dataframe tbody tr th:only-of-type {\n",
              "        vertical-align: middle;\n",
              "    }\n",
              "\n",
              "    .dataframe tbody tr th {\n",
              "        vertical-align: top;\n",
              "    }\n",
              "\n",
              "    .dataframe thead th {\n",
              "        text-align: right;\n",
              "    }\n",
              "</style>\n",
              "<table border=\"1\" class=\"dataframe\">\n",
              "  <thead>\n",
              "    <tr style=\"text-align: right;\">\n",
              "      <th></th>\n",
              "      <th>ECO</th>\n",
              "      <th>Frequency</th>\n",
              "    </tr>\n",
              "  </thead>\n",
              "  <tbody>\n",
              "    <tr>\n",
              "      <th>0</th>\n",
              "      <td>A00</td>\n",
              "      <td>3286</td>\n",
              "    </tr>\n",
              "    <tr>\n",
              "      <th>1</th>\n",
              "      <td>A40</td>\n",
              "      <td>2654</td>\n",
              "    </tr>\n",
              "    <tr>\n",
              "      <th>2</th>\n",
              "      <td>B01</td>\n",
              "      <td>2448</td>\n",
              "    </tr>\n",
              "    <tr>\n",
              "      <th>3</th>\n",
              "      <td>C00</td>\n",
              "      <td>2118</td>\n",
              "    </tr>\n",
              "    <tr>\n",
              "      <th>4</th>\n",
              "      <td>D00</td>\n",
              "      <td>2033</td>\n",
              "    </tr>\n",
              "    <tr>\n",
              "      <th>...</th>\n",
              "      <td>...</td>\n",
              "      <td>...</td>\n",
              "    </tr>\n",
              "    <tr>\n",
              "      <th>414</th>\n",
              "      <td>A91</td>\n",
              "      <td>1</td>\n",
              "    </tr>\n",
              "    <tr>\n",
              "      <th>415</th>\n",
              "      <td>E28</td>\n",
              "      <td>1</td>\n",
              "    </tr>\n",
              "    <tr>\n",
              "      <th>416</th>\n",
              "      <td>E09</td>\n",
              "      <td>1</td>\n",
              "    </tr>\n",
              "    <tr>\n",
              "      <th>417</th>\n",
              "      <td>D89</td>\n",
              "      <td>1</td>\n",
              "    </tr>\n",
              "    <tr>\n",
              "      <th>418</th>\n",
              "      <td>E34</td>\n",
              "      <td>1</td>\n",
              "    </tr>\n",
              "  </tbody>\n",
              "</table>\n",
              "<p>419 rows × 2 columns</p>\n",
              "</div>"
            ],
            "text/plain": [
              "     ECO  Frequency\n",
              "0    A00       3286\n",
              "1    A40       2654\n",
              "2    B01       2448\n",
              "3    C00       2118\n",
              "4    D00       2033\n",
              "..   ...        ...\n",
              "414  A91          1\n",
              "415  E28          1\n",
              "416  E09          1\n",
              "417  D89          1\n",
              "418  E34          1\n",
              "\n",
              "[419 rows x 2 columns]"
            ]
          },
          "metadata": {
            "tags": []
          },
          "execution_count": 125
        }
      ]
    },
    {
      "cell_type": "markdown",
      "metadata": {
        "id": "C1RCBBYcw-na"
      },
      "source": [
        "### **White / Black Rating Diff**"
      ]
    },
    {
      "cell_type": "code",
      "metadata": {
        "id": "AFl3y6WwxByG",
        "outputId": "5083da3f-3ae5-488c-f87c-8ac6e79767b2",
        "colab": {
          "base_uri": "https://localhost:8080/",
          "height": 356
        }
      },
      "source": [
        "sns.set()\n",
        "fig, ax =plt.subplots(1,2,figsize=(20,5),sharex=True)\n",
        "sns.distplot(df_raw['WhiteRatingDiff'], color='blue',kde=False, ax=ax[0])\n",
        "sns.distplot(df_raw['BlackRatingDiff'], color='red',kde=False, ax=ax[1])"
      ],
      "execution_count": null,
      "outputs": [
        {
          "output_type": "execute_result",
          "data": {
            "text/plain": [
              "<matplotlib.axes._subplots.AxesSubplot at 0x7fd3a37f3518>"
            ]
          },
          "metadata": {
            "tags": []
          },
          "execution_count": 127
        },
        {
          "output_type": "display_data",
          "data": {
            "image/png": "[encoded data removed]",
            "text/plain": [
              "<Figure size 1440x360 with 2 Axes>"
            ]
          },
          "metadata": {
            "tags": []
          }
        }
      ]
    },
    {
      "cell_type": "markdown",
      "metadata": {
        "id": "V09wYWSEISFZ"
      },
      "source": [
        "## **Implementation**"
      ]
    },
    {
      "cell_type": "markdown",
      "metadata": {
        "id": "wAHAcAjbIaLy"
      },
      "source": [
        "### **Predict ELO - Regression**"
      ]
    },
    {
      "cell_type": "code",
      "metadata": {
        "id": "WpdHGXdOIt39"
      },
      "source": [
        "new_df = df_raw.copy()\n",
        "\n",
        "new_df.drop(['White','Black', 'UTCDate', 'UTCTime', 'Moves', 'White1', 'Black1', 'White2', 'Black2'], axis=1, inplace=True)\n",
        "\n",
        "white_df = new_df.copy()\n",
        "black_df = new_df.copy()\n",
        "\n",
        "white_df.drop(['BlackElo','BlackRatingDiff'], axis=1, inplace=True)\n",
        "black_df.drop(['WhiteElo','WhiteRatingDiff'], axis=1, inplace=True)"
      ],
      "execution_count": null,
      "outputs": []
    },
    {
      "cell_type": "code",
      "metadata": {
        "id": "OwX-v0rYJ-uq",
        "outputId": "63732dad-a3fe-460b-88a3-c65b19be5bf1",
        "colab": {
          "base_uri": "https://localhost:8080/",
          "height": 419
        }
      },
      "source": [
        "white_df"
      ],
      "execution_count": null,
      "outputs": [
        {
          "output_type": "execute_result",
          "data": {
            "text/html": [
              "<div>\n",
              "<style scoped>\n",
              "    .dataframe tbody tr th:only-of-type {\n",
              "        vertical-align: middle;\n",
              "    }\n",
              "\n",
              "    .dataframe tbody tr th {\n",
              "        vertical-align: top;\n",
              "    }\n",
              "\n",
              "    .dataframe thead th {\n",
              "        text-align: right;\n",
              "    }\n",
              "</style>\n",
              "<table border=\"1\" class=\"dataframe\">\n",
              "  <thead>\n",
              "    <tr style=\"text-align: right;\">\n",
              "      <th></th>\n",
              "      <th>ID</th>\n",
              "      <th>Event</th>\n",
              "      <th>Result</th>\n",
              "      <th>ECO</th>\n",
              "      <th>Opening</th>\n",
              "      <th>Termination</th>\n",
              "      <th>TimeControl</th>\n",
              "      <th>WhiteElo</th>\n",
              "      <th>WhiteRatingDiff</th>\n",
              "    </tr>\n",
              "  </thead>\n",
              "  <tbody>\n",
              "    <tr>\n",
              "      <th>0</th>\n",
              "      <td>0</td>\n",
              "      <td>23</td>\n",
              "      <td>0</td>\n",
              "      <td>224</td>\n",
              "      <td>507</td>\n",
              "      <td>0</td>\n",
              "      <td>113</td>\n",
              "      <td>1688</td>\n",
              "      <td>-10.0</td>\n",
              "    </tr>\n",
              "    <tr>\n",
              "      <th>1</th>\n",
              "      <td>1</td>\n",
              "      <td>23</td>\n",
              "      <td>0</td>\n",
              "      <td>84</td>\n",
              "      <td>1404</td>\n",
              "      <td>0</td>\n",
              "      <td>113</td>\n",
              "      <td>1418</td>\n",
              "      <td>-8.0</td>\n",
              "    </tr>\n",
              "    <tr>\n",
              "      <th>2</th>\n",
              "      <td>2</td>\n",
              "      <td>23</td>\n",
              "      <td>1</td>\n",
              "      <td>45</td>\n",
              "      <td>1753</td>\n",
              "      <td>0</td>\n",
              "      <td>113</td>\n",
              "      <td>2002</td>\n",
              "      <td>7.0</td>\n",
              "    </tr>\n",
              "    <tr>\n",
              "      <th>3</th>\n",
              "      <td>3</td>\n",
              "      <td>23</td>\n",
              "      <td>1</td>\n",
              "      <td>26</td>\n",
              "      <td>330</td>\n",
              "      <td>0</td>\n",
              "      <td>113</td>\n",
              "      <td>2096</td>\n",
              "      <td>8.0</td>\n",
              "    </tr>\n",
              "    <tr>\n",
              "      <th>4</th>\n",
              "      <td>4</td>\n",
              "      <td>23</td>\n",
              "      <td>1</td>\n",
              "      <td>15</td>\n",
              "      <td>292</td>\n",
              "      <td>0</td>\n",
              "      <td>113</td>\n",
              "      <td>2079</td>\n",
              "      <td>7.0</td>\n",
              "    </tr>\n",
              "    <tr>\n",
              "      <th>...</th>\n",
              "      <td>...</td>\n",
              "      <td>...</td>\n",
              "      <td>...</td>\n",
              "      <td>...</td>\n",
              "      <td>...</td>\n",
              "      <td>...</td>\n",
              "      <td>...</td>\n",
              "      <td>...</td>\n",
              "      <td>...</td>\n",
              "    </tr>\n",
              "    <tr>\n",
              "      <th>52627</th>\n",
              "      <td>52627</td>\n",
              "      <td>0</td>\n",
              "      <td>1</td>\n",
              "      <td>122</td>\n",
              "      <td>1550</td>\n",
              "      <td>0</td>\n",
              "      <td>32</td>\n",
              "      <td>1780</td>\n",
              "      <td>6.0</td>\n",
              "    </tr>\n",
              "    <tr>\n",
              "      <th>52628</th>\n",
              "      <td>52628</td>\n",
              "      <td>0</td>\n",
              "      <td>1</td>\n",
              "      <td>238</td>\n",
              "      <td>1312</td>\n",
              "      <td>0</td>\n",
              "      <td>32</td>\n",
              "      <td>1421</td>\n",
              "      <td>8.0</td>\n",
              "    </tr>\n",
              "    <tr>\n",
              "      <th>52629</th>\n",
              "      <td>52629</td>\n",
              "      <td>0</td>\n",
              "      <td>0</td>\n",
              "      <td>174</td>\n",
              "      <td>468</td>\n",
              "      <td>0</td>\n",
              "      <td>32</td>\n",
              "      <td>1214</td>\n",
              "      <td>-6.0</td>\n",
              "    </tr>\n",
              "    <tr>\n",
              "      <th>52630</th>\n",
              "      <td>52630</td>\n",
              "      <td>0</td>\n",
              "      <td>0</td>\n",
              "      <td>224</td>\n",
              "      <td>627</td>\n",
              "      <td>0</td>\n",
              "      <td>32</td>\n",
              "      <td>1669</td>\n",
              "      <td>-105.0</td>\n",
              "    </tr>\n",
              "    <tr>\n",
              "      <th>52631</th>\n",
              "      <td>52631</td>\n",
              "      <td>0</td>\n",
              "      <td>0</td>\n",
              "      <td>194</td>\n",
              "      <td>825</td>\n",
              "      <td>0</td>\n",
              "      <td>32</td>\n",
              "      <td>979</td>\n",
              "      <td>-4.0</td>\n",
              "    </tr>\n",
              "  </tbody>\n",
              "</table>\n",
              "<p>52286 rows × 9 columns</p>\n",
              "</div>"
            ],
            "text/plain": [
              "          ID  Event  Result  ...  TimeControl  WhiteElo  WhiteRatingDiff\n",
              "0          0     23       0  ...          113      1688            -10.0\n",
              "1          1     23       0  ...          113      1418             -8.0\n",
              "2          2     23       1  ...          113      2002              7.0\n",
              "3          3     23       1  ...          113      2096              8.0\n",
              "4          4     23       1  ...          113      2079              7.0\n",
              "...      ...    ...     ...  ...          ...       ...              ...\n",
              "52627  52627      0       1  ...           32      1780              6.0\n",
              "52628  52628      0       1  ...           32      1421              8.0\n",
              "52629  52629      0       0  ...           32      1214             -6.0\n",
              "52630  52630      0       0  ...           32      1669           -105.0\n",
              "52631  52631      0       0  ...           32       979             -4.0\n",
              "\n",
              "[52286 rows x 9 columns]"
            ]
          },
          "metadata": {
            "tags": []
          },
          "execution_count": 33
        }
      ]
    },
    {
      "cell_type": "code",
      "metadata": {
        "id": "mksAoEylIbzg",
        "outputId": "7aac12bf-ed58-4bee-e00d-cf9ba96ed353",
        "colab": {
          "base_uri": "https://localhost:8080/",
          "height": 104
        }
      },
      "source": [
        "# WhiteElo\n",
        "\n",
        "# Split Data into train and test\n",
        "train_data1, test_data1 = train_test_split(white_df, train_size=0.8)\n",
        "\n",
        "# Y - Train & Test\n",
        "Y_train1 = train_data1['WhiteElo'].values.reshape(-1,1)\n",
        "Y_test1 = test_data1['WhiteElo'].values.reshape(-1,1)\n",
        "\n",
        "# Target data\n",
        "target_df1 = train_data1['WhiteElo'].values.reshape(-1,1)\n",
        "target_df1_test = test_data1['WhiteElo'].values.reshape(-1,1)\n",
        "\n",
        "# For Output\n",
        "Tid1 = test_data1['ID'].values\n",
        "\n",
        "# Drop columns\n",
        "train_data1.drop(['ID', 'WhiteElo'], axis =1, inplace=True)\n",
        "test_data1.drop(['ID', 'WhiteElo'], axis =1, inplace=True)"
      ],
      "execution_count": null,
      "outputs": [
        {
          "output_type": "stream",
          "text": [
            "/usr/local/lib/python3.6/dist-packages/pandas/core/frame.py:4117: SettingWithCopyWarning: \n",
            "A value is trying to be set on a copy of a slice from a DataFrame\n",
            "\n",
            "See the caveats in the documentation: http://pandas.pydata.org/pandas-docs/stable/user_guide/indexing.html#returning-a-view-versus-a-copy\n",
            "  errors=errors,\n"
          ],
          "name": "stderr"
        }
      ]
    },
    {
      "cell_type": "code",
      "metadata": {
        "id": "HslHBGopQ_py",
        "outputId": "765ff167-d40e-4a49-ad81-7390ed457ced",
        "colab": {
          "base_uri": "https://localhost:8080/",
          "height": 221
        }
      },
      "source": [
        "target_df1"
      ],
      "execution_count": null,
      "outputs": [
        {
          "output_type": "execute_result",
          "data": {
            "text/plain": [
              "32848    1627\n",
              "46358    1792\n",
              "29428    1174\n",
              "19814    1057\n",
              "31988    1466\n",
              "         ... \n",
              "16837    1327\n",
              "27989    1410\n",
              "17591    1510\n",
              "36758    1445\n",
              "42891    1530\n",
              "Name: WhiteElo, Length: 41828, dtype: int64"
            ]
          },
          "metadata": {
            "tags": []
          },
          "execution_count": 57
        }
      ]
    },
    {
      "cell_type": "code",
      "metadata": {
        "id": "2jhMOhLqLnfw",
        "outputId": "7e09d901-1457-4954-b0c2-0077df154040",
        "colab": {
          "base_uri": "https://localhost:8080/",
          "height": 102
        }
      },
      "source": [
        "# BlackElo\n",
        "\n",
        "# Split Data into train and test\n",
        "train_data2, test_data2 = train_test_split(black_df, train_size=0.8)\n",
        "\n",
        "# Target data\n",
        "target_df2 = train_data2['BlackElo']\n",
        "target_df2_test = test_data2['BlackElo']\n",
        "\n",
        "# For Output\n",
        "Tid2 = test_data2['ID'].values\n",
        "\n",
        "# Drop columns\n",
        "train_data2.drop(['ID', 'BlackElo'], axis =1, inplace=True)\n",
        "test_data2.drop(['ID', 'BlackElo'], axis =1, inplace=True)"
      ],
      "execution_count": null,
      "outputs": [
        {
          "output_type": "stream",
          "text": [
            "/usr/local/lib/python3.6/dist-packages/pandas/core/frame.py:4117: SettingWithCopyWarning: \n",
            "A value is trying to be set on a copy of a slice from a DataFrame\n",
            "\n",
            "See the caveats in the documentation: http://pandas.pydata.org/pandas-docs/stable/user_guide/indexing.html#returning-a-view-versus-a-copy\n",
            "  errors=errors,\n"
          ],
          "name": "stderr"
        }
      ]
    },
    {
      "cell_type": "markdown",
      "metadata": {
        "id": "rveIUDzAMd9o"
      },
      "source": [
        "#### **Linear Regression**"
      ]
    },
    {
      "cell_type": "code",
      "metadata": {
        "id": "2_Xa_q_UTbI-",
        "outputId": "d27af0a2-a6b0-4660-8b17-3f87fa48b2c9",
        "colab": {
          "base_uri": "https://localhost:8080/",
          "height": 51
        }
      },
      "source": [
        "import numpy as np\n",
        "# Train Model\n",
        "w_linreg_model1 = LinearRegression().fit(train_data1, target_df1)\n",
        "\n",
        "# Prediction\n",
        "Y_pred1 = w_linreg_model1.predict(test_data1)\n",
        "\n",
        "# Submission\n",
        "#output1 = pd.DataFrame({'Id': Tid1, 'WhiteElo': Y_pred1})\n",
        "#output1.to_csv(\"/content/drive/Shared drives/DSF_Project/Models Output/linreg_WhiteElo.csv\", index=False)\n",
        "\n",
        "# Score\n",
        "#print(w_linreg_model1.rsquared)\n",
        "print('Score: ')\n",
        "#print(metrics.r2_score(target_df1_test,Y_pred1))\n",
        "#print(w_linreg_model1.score(test_data1,target_df1_test))\n",
        "print(w_linreg_model1.score(train_data1, target_df1))\n",
        "#print(np.sqrt(mse(target_df1_test, Y_pred1)))"
      ],
      "execution_count": null,
      "outputs": [
        {
          "output_type": "stream",
          "text": [
            "Score: \n",
            "0.014219963208178867\n"
          ],
          "name": "stdout"
        }
      ]
    },
    {
      "cell_type": "code",
      "metadata": {
        "id": "cB3qNDImZjC4",
        "outputId": "af49fbe8-8410-4257-8496-ad84dac36553",
        "colab": {
          "base_uri": "https://localhost:8080/",
          "height": 34
        }
      },
      "source": [
        "len(target_df1_test)"
      ],
      "execution_count": null,
      "outputs": [
        {
          "output_type": "execute_result",
          "data": {
            "text/plain": [
              "10458"
            ]
          },
          "metadata": {
            "tags": []
          },
          "execution_count": 94
        }
      ]
    },
    {
      "cell_type": "code",
      "metadata": {
        "id": "ELU9ZlcBO_B4",
        "outputId": "05c9739f-24c2-4935-9a16-6f4a44deedcb",
        "colab": {
          "base_uri": "https://localhost:8080/",
          "height": 51
        }
      },
      "source": [
        "# Train Model\n",
        "w_linreg_model2 = LinearRegression().fit(train_data2, target_df2)\n",
        "\n",
        "# Prediction\n",
        "Y_pred2 = w_linreg_model2.predict(test_data2)\n",
        "\n",
        "# Submission\n",
        "output2 = pd.DataFrame({'Id': Tid2, 'WhiteElo': Y_pred2})\n",
        "output2.to_csv(\"/content/drive/Shared drives/DSF_Project/Models Output/linreg_BlackElo.csv\", index=False)\n",
        "\n",
        "# Score\n",
        "print('Score: ')\n",
        "print(w_linreg_model2.score(train_data1, target_df1))"
      ],
      "execution_count": null,
      "outputs": [
        {
          "output_type": "stream",
          "text": [
            "Score: \n",
            "-0.519618373422998\n"
          ],
          "name": "stdout"
        }
      ]
    },
    {
      "cell_type": "markdown",
      "metadata": {
        "id": "t9T02nrbMv8U"
      },
      "source": [
        "#### **LGBM**"
      ]
    },
    {
      "cell_type": "code",
      "metadata": {
        "id": "s6FXBJNp4vMi",
        "outputId": "f131baad-a9f8-4f7f-f28b-10aa19d1c74d",
        "colab": {
          "base_uri": "https://localhost:8080/",
          "height": 330
        }
      },
      "source": [
        "# For Output\n",
        "#Tid_white = white_df['ID'].values\n",
        "#Tid_black = black_df['ID'].values\n",
        "\n",
        "# Drop columns\n",
        "white_df.drop(['ID'], axis =1, inplace=True)\n",
        "black_df.drop(['ID'], axis =1, inplace=True)"
      ],
      "execution_count": null,
      "outputs": [
        {
          "output_type": "error",
          "ename": "KeyError",
          "evalue": "ignored",
          "traceback": [
            "\u001b[0;31m---------------------------------------------------------------------------\u001b[0m",
            "\u001b[0;31mKeyError\u001b[0m                                  Traceback (most recent call last)",
            "\u001b[0;32m<ipython-input-200-c4fd21b0ed24>\u001b[0m in \u001b[0;36m<module>\u001b[0;34m()\u001b[0m\n\u001b[0;32m----> 1\u001b[0;31m \u001b[0mwhite_df\u001b[0m\u001b[0;34m.\u001b[0m\u001b[0mdrop\u001b[0m\u001b[0;34m(\u001b[0m\u001b[0;34m[\u001b[0m\u001b[0;34m'ID'\u001b[0m\u001b[0;34m]\u001b[0m\u001b[0;34m,\u001b[0m \u001b[0maxis\u001b[0m \u001b[0;34m=\u001b[0m\u001b[0;36m1\u001b[0m\u001b[0;34m,\u001b[0m \u001b[0minplace\u001b[0m\u001b[0;34m=\u001b[0m\u001b[0;32mTrue\u001b[0m\u001b[0;34m)\u001b[0m\u001b[0;34m\u001b[0m\u001b[0;34m\u001b[0m\u001b[0m\n\u001b[0m\u001b[1;32m      2\u001b[0m \u001b[0mblack_df\u001b[0m\u001b[0;34m.\u001b[0m\u001b[0mdrop\u001b[0m\u001b[0;34m(\u001b[0m\u001b[0;34m[\u001b[0m\u001b[0;34m'ID'\u001b[0m\u001b[0;34m]\u001b[0m\u001b[0;34m,\u001b[0m \u001b[0maxis\u001b[0m \u001b[0;34m=\u001b[0m\u001b[0;36m1\u001b[0m\u001b[0;34m,\u001b[0m \u001b[0minplace\u001b[0m\u001b[0;34m=\u001b[0m\u001b[0;32mTrue\u001b[0m\u001b[0;34m)\u001b[0m\u001b[0;34m\u001b[0m\u001b[0;34m\u001b[0m\u001b[0m\n",
            "\u001b[0;32m/usr/local/lib/python3.6/dist-packages/pandas/core/frame.py\u001b[0m in \u001b[0;36mdrop\u001b[0;34m(self, labels, axis, index, columns, level, inplace, errors)\u001b[0m\n\u001b[1;32m   4115\u001b[0m             \u001b[0mlevel\u001b[0m\u001b[0;34m=\u001b[0m\u001b[0mlevel\u001b[0m\u001b[0;34m,\u001b[0m\u001b[0;34m\u001b[0m\u001b[0;34m\u001b[0m\u001b[0m\n\u001b[1;32m   4116\u001b[0m             \u001b[0minplace\u001b[0m\u001b[0;34m=\u001b[0m\u001b[0minplace\u001b[0m\u001b[0;34m,\u001b[0m\u001b[0;34m\u001b[0m\u001b[0;34m\u001b[0m\u001b[0m\n\u001b[0;32m-> 4117\u001b[0;31m             \u001b[0merrors\u001b[0m\u001b[0;34m=\u001b[0m\u001b[0merrors\u001b[0m\u001b[0;34m,\u001b[0m\u001b[0;34m\u001b[0m\u001b[0;34m\u001b[0m\u001b[0m\n\u001b[0m\u001b[1;32m   4118\u001b[0m         )\n\u001b[1;32m   4119\u001b[0m \u001b[0;34m\u001b[0m\u001b[0m\n",
            "\u001b[0;32m/usr/local/lib/python3.6/dist-packages/pandas/core/generic.py\u001b[0m in \u001b[0;36mdrop\u001b[0;34m(self, labels, axis, index, columns, level, inplace, errors)\u001b[0m\n\u001b[1;32m   3912\u001b[0m         \u001b[0;32mfor\u001b[0m \u001b[0maxis\u001b[0m\u001b[0;34m,\u001b[0m \u001b[0mlabels\u001b[0m \u001b[0;32min\u001b[0m \u001b[0maxes\u001b[0m\u001b[0;34m.\u001b[0m\u001b[0mitems\u001b[0m\u001b[0;34m(\u001b[0m\u001b[0;34m)\u001b[0m\u001b[0;34m:\u001b[0m\u001b[0;34m\u001b[0m\u001b[0;34m\u001b[0m\u001b[0m\n\u001b[1;32m   3913\u001b[0m             \u001b[0;32mif\u001b[0m \u001b[0mlabels\u001b[0m \u001b[0;32mis\u001b[0m \u001b[0;32mnot\u001b[0m \u001b[0;32mNone\u001b[0m\u001b[0;34m:\u001b[0m\u001b[0;34m\u001b[0m\u001b[0;34m\u001b[0m\u001b[0m\n\u001b[0;32m-> 3914\u001b[0;31m                 \u001b[0mobj\u001b[0m \u001b[0;34m=\u001b[0m \u001b[0mobj\u001b[0m\u001b[0;34m.\u001b[0m\u001b[0m_drop_axis\u001b[0m\u001b[0;34m(\u001b[0m\u001b[0mlabels\u001b[0m\u001b[0;34m,\u001b[0m \u001b[0maxis\u001b[0m\u001b[0;34m,\u001b[0m \u001b[0mlevel\u001b[0m\u001b[0;34m=\u001b[0m\u001b[0mlevel\u001b[0m\u001b[0;34m,\u001b[0m \u001b[0merrors\u001b[0m\u001b[0;34m=\u001b[0m\u001b[0merrors\u001b[0m\u001b[0;34m)\u001b[0m\u001b[0;34m\u001b[0m\u001b[0;34m\u001b[0m\u001b[0m\n\u001b[0m\u001b[1;32m   3915\u001b[0m \u001b[0;34m\u001b[0m\u001b[0m\n\u001b[1;32m   3916\u001b[0m         \u001b[0;32mif\u001b[0m \u001b[0minplace\u001b[0m\u001b[0;34m:\u001b[0m\u001b[0;34m\u001b[0m\u001b[0;34m\u001b[0m\u001b[0m\n",
            "\u001b[0;32m/usr/local/lib/python3.6/dist-packages/pandas/core/generic.py\u001b[0m in \u001b[0;36m_drop_axis\u001b[0;34m(self, labels, axis, level, errors)\u001b[0m\n\u001b[1;32m   3944\u001b[0m                 \u001b[0mnew_axis\u001b[0m \u001b[0;34m=\u001b[0m \u001b[0maxis\u001b[0m\u001b[0;34m.\u001b[0m\u001b[0mdrop\u001b[0m\u001b[0;34m(\u001b[0m\u001b[0mlabels\u001b[0m\u001b[0;34m,\u001b[0m \u001b[0mlevel\u001b[0m\u001b[0;34m=\u001b[0m\u001b[0mlevel\u001b[0m\u001b[0;34m,\u001b[0m \u001b[0merrors\u001b[0m\u001b[0;34m=\u001b[0m\u001b[0merrors\u001b[0m\u001b[0;34m)\u001b[0m\u001b[0;34m\u001b[0m\u001b[0;34m\u001b[0m\u001b[0m\n\u001b[1;32m   3945\u001b[0m             \u001b[0;32melse\u001b[0m\u001b[0;34m:\u001b[0m\u001b[0;34m\u001b[0m\u001b[0;34m\u001b[0m\u001b[0m\n\u001b[0;32m-> 3946\u001b[0;31m                 \u001b[0mnew_axis\u001b[0m \u001b[0;34m=\u001b[0m \u001b[0maxis\u001b[0m\u001b[0;34m.\u001b[0m\u001b[0mdrop\u001b[0m\u001b[0;34m(\u001b[0m\u001b[0mlabels\u001b[0m\u001b[0;34m,\u001b[0m \u001b[0merrors\u001b[0m\u001b[0;34m=\u001b[0m\u001b[0merrors\u001b[0m\u001b[0;34m)\u001b[0m\u001b[0;34m\u001b[0m\u001b[0;34m\u001b[0m\u001b[0m\n\u001b[0m\u001b[1;32m   3947\u001b[0m             \u001b[0mresult\u001b[0m \u001b[0;34m=\u001b[0m \u001b[0mself\u001b[0m\u001b[0;34m.\u001b[0m\u001b[0mreindex\u001b[0m\u001b[0;34m(\u001b[0m\u001b[0;34m**\u001b[0m\u001b[0;34m{\u001b[0m\u001b[0maxis_name\u001b[0m\u001b[0;34m:\u001b[0m \u001b[0mnew_axis\u001b[0m\u001b[0;34m}\u001b[0m\u001b[0;34m)\u001b[0m\u001b[0;34m\u001b[0m\u001b[0;34m\u001b[0m\u001b[0m\n\u001b[1;32m   3948\u001b[0m \u001b[0;34m\u001b[0m\u001b[0m\n",
            "\u001b[0;32m/usr/local/lib/python3.6/dist-packages/pandas/core/indexes/base.py\u001b[0m in \u001b[0;36mdrop\u001b[0;34m(self, labels, errors)\u001b[0m\n\u001b[1;32m   5338\u001b[0m         \u001b[0;32mif\u001b[0m \u001b[0mmask\u001b[0m\u001b[0;34m.\u001b[0m\u001b[0many\u001b[0m\u001b[0;34m(\u001b[0m\u001b[0;34m)\u001b[0m\u001b[0;34m:\u001b[0m\u001b[0;34m\u001b[0m\u001b[0;34m\u001b[0m\u001b[0m\n\u001b[1;32m   5339\u001b[0m             \u001b[0;32mif\u001b[0m \u001b[0merrors\u001b[0m \u001b[0;34m!=\u001b[0m \u001b[0;34m\"ignore\"\u001b[0m\u001b[0;34m:\u001b[0m\u001b[0;34m\u001b[0m\u001b[0;34m\u001b[0m\u001b[0m\n\u001b[0;32m-> 5340\u001b[0;31m                 \u001b[0;32mraise\u001b[0m \u001b[0mKeyError\u001b[0m\u001b[0;34m(\u001b[0m\u001b[0;34m\"{} not found in axis\"\u001b[0m\u001b[0;34m.\u001b[0m\u001b[0mformat\u001b[0m\u001b[0;34m(\u001b[0m\u001b[0mlabels\u001b[0m\u001b[0;34m[\u001b[0m\u001b[0mmask\u001b[0m\u001b[0;34m]\u001b[0m\u001b[0;34m)\u001b[0m\u001b[0;34m)\u001b[0m\u001b[0;34m\u001b[0m\u001b[0;34m\u001b[0m\u001b[0m\n\u001b[0m\u001b[1;32m   5341\u001b[0m             \u001b[0mindexer\u001b[0m \u001b[0;34m=\u001b[0m \u001b[0mindexer\u001b[0m\u001b[0;34m[\u001b[0m\u001b[0;34m~\u001b[0m\u001b[0mmask\u001b[0m\u001b[0;34m]\u001b[0m\u001b[0;34m\u001b[0m\u001b[0;34m\u001b[0m\u001b[0m\n\u001b[1;32m   5342\u001b[0m         \u001b[0;32mreturn\u001b[0m \u001b[0mself\u001b[0m\u001b[0;34m.\u001b[0m\u001b[0mdelete\u001b[0m\u001b[0;34m(\u001b[0m\u001b[0mindexer\u001b[0m\u001b[0;34m)\u001b[0m\u001b[0;34m\u001b[0m\u001b[0;34m\u001b[0m\u001b[0m\n",
            "\u001b[0;31mKeyError\u001b[0m: \"['ID'] not found in axis\""
          ]
        }
      ]
    },
    {
      "cell_type": "code",
      "metadata": {
        "id": "CBGjiHw_7GkG",
        "outputId": "410f51c9-8086-451f-d6f6-66fd6c59e41e",
        "colab": {
          "base_uri": "https://localhost:8080/",
          "height": 137
        }
      },
      "source": [
        "count  = target_white.value_counts()\n",
        "pd.DataFrame({'ELO': count.index, 'Frequency':count.values})"
      ],
      "execution_count": null,
      "outputs": [
        {
          "output_type": "execute_result",
          "data": {
            "text/html": [
              "<div>\n",
              "<style scoped>\n",
              "    .dataframe tbody tr th:only-of-type {\n",
              "        vertical-align: middle;\n",
              "    }\n",
              "\n",
              "    .dataframe tbody tr th {\n",
              "        vertical-align: top;\n",
              "    }\n",
              "\n",
              "    .dataframe thead th {\n",
              "        text-align: right;\n",
              "    }\n",
              "</style>\n",
              "<table border=\"1\" class=\"dataframe\">\n",
              "  <thead>\n",
              "    <tr style=\"text-align: right;\">\n",
              "      <th></th>\n",
              "      <th>ELO</th>\n",
              "      <th>Frequency</th>\n",
              "    </tr>\n",
              "  </thead>\n",
              "  <tbody>\n",
              "    <tr>\n",
              "      <th>0</th>\n",
              "      <td>Class_1500_2000</td>\n",
              "      <td>25938</td>\n",
              "    </tr>\n",
              "    <tr>\n",
              "      <th>1</th>\n",
              "      <td>Class_1500</td>\n",
              "      <td>19182</td>\n",
              "    </tr>\n",
              "    <tr>\n",
              "      <th>2</th>\n",
              "      <td>Class_2000</td>\n",
              "      <td>7166</td>\n",
              "    </tr>\n",
              "  </tbody>\n",
              "</table>\n",
              "</div>"
            ],
            "text/plain": [
              "               ELO  Frequency\n",
              "0  Class_1500_2000      25938\n",
              "1       Class_1500      19182\n",
              "2       Class_2000       7166"
            ]
          },
          "metadata": {
            "tags": []
          },
          "execution_count": 183
        }
      ]
    },
    {
      "cell_type": "code",
      "metadata": {
        "id": "w0fVXVcQMxvj"
      },
      "source": [
        "# Train Model\n",
        "x, x_test, y, y_test = train_test_split(white_df, target_white, test_size=0.2, random_state=42, stratify=target_white)"
      ],
      "execution_count": null,
      "outputs": []
    },
    {
      "cell_type": "code",
      "metadata": {
        "id": "WLjPRU4B6E6v",
        "outputId": "f12c1f2b-e3e7-4302-f0f4-6331bca5295f",
        "colab": {
          "base_uri": "https://localhost:8080/",
          "height": 434
        }
      },
      "source": [
        "import lightgbm\n",
        "\n",
        "categorical_features = [c for c, col in enumerate(white_df.columns) if 'cat' in col]\n",
        "train_data = lightgbm.Dataset(x, label=y, categorical_feature=categorical_features)\n",
        "test_data = lightgbm.Dataset(x_test, label=y_test)\n",
        "\n",
        "parameters = {\n",
        "    'application': 'binary',\n",
        "    'objective': 'binary',\n",
        "    'metric': 'auc',\n",
        "    'is_unbalance': 'true',\n",
        "    'boosting': 'gbdt',\n",
        "    'num_leaves': 31,\n",
        "    'feature_fraction': 0.5,\n",
        "    'bagging_fraction': 0.5,\n",
        "    'bagging_freq': 20,\n",
        "    'learning_rate': 0.05,\n",
        "    'verbose': 0\n",
        "}\n",
        "\n",
        "lgbm_model = lightgbm.train(parameters,\n",
        "                       train_data,\n",
        "                       valid_sets=test_data,\n",
        "                       num_boost_round=5000,\n",
        "                       early_stopping_rounds=100)"
      ],
      "execution_count": null,
      "outputs": [
        {
          "output_type": "stream",
          "text": [
            "/usr/local/lib/python3.6/dist-packages/lightgbm/basic.py:1205: UserWarning: Using categorical_feature in Dataset.\n",
            "  warnings.warn('Using categorical_feature in Dataset.')\n",
            "/usr/local/lib/python3.6/dist-packages/lightgbm/basic.py:1209: UserWarning: categorical_feature in Dataset is overridden.\n",
            "New categorical_feature is []\n",
            "  'New categorical_feature is {}'.format(sorted(list(categorical_feature))))\n"
          ],
          "name": "stderr"
        },
        {
          "output_type": "error",
          "ename": "ValueError",
          "evalue": "ignored",
          "traceback": [
            "\u001b[0;31m---------------------------------------------------------------------------\u001b[0m",
            "\u001b[0;31mValueError\u001b[0m                                Traceback (most recent call last)",
            "\u001b[0;32m<ipython-input-202-a276bf5d7961>\u001b[0m in \u001b[0;36m<module>\u001b[0;34m()\u001b[0m\n\u001b[1;32m     23\u001b[0m                        \u001b[0mvalid_sets\u001b[0m\u001b[0;34m=\u001b[0m\u001b[0mtest_data\u001b[0m\u001b[0;34m,\u001b[0m\u001b[0;34m\u001b[0m\u001b[0;34m\u001b[0m\u001b[0m\n\u001b[1;32m     24\u001b[0m                        \u001b[0mnum_boost_round\u001b[0m\u001b[0;34m=\u001b[0m\u001b[0;36m5000\u001b[0m\u001b[0;34m,\u001b[0m\u001b[0;34m\u001b[0m\u001b[0;34m\u001b[0m\u001b[0m\n\u001b[0;32m---> 25\u001b[0;31m                        early_stopping_rounds=100)\n\u001b[0m",
            "\u001b[0;32m/usr/local/lib/python3.6/dist-packages/lightgbm/engine.py\u001b[0m in \u001b[0;36mtrain\u001b[0;34m(params, train_set, num_boost_round, valid_sets, valid_names, fobj, feval, init_model, feature_name, categorical_feature, early_stopping_rounds, evals_result, verbose_eval, learning_rates, keep_training_booster, callbacks)\u001b[0m\n\u001b[1;32m    195\u001b[0m     \u001b[0;31m# construct booster\u001b[0m\u001b[0;34m\u001b[0m\u001b[0;34m\u001b[0m\u001b[0;34m\u001b[0m\u001b[0m\n\u001b[1;32m    196\u001b[0m     \u001b[0;32mtry\u001b[0m\u001b[0;34m:\u001b[0m\u001b[0;34m\u001b[0m\u001b[0;34m\u001b[0m\u001b[0m\n\u001b[0;32m--> 197\u001b[0;31m         \u001b[0mbooster\u001b[0m \u001b[0;34m=\u001b[0m \u001b[0mBooster\u001b[0m\u001b[0;34m(\u001b[0m\u001b[0mparams\u001b[0m\u001b[0;34m=\u001b[0m\u001b[0mparams\u001b[0m\u001b[0;34m,\u001b[0m \u001b[0mtrain_set\u001b[0m\u001b[0;34m=\u001b[0m\u001b[0mtrain_set\u001b[0m\u001b[0;34m)\u001b[0m\u001b[0;34m\u001b[0m\u001b[0;34m\u001b[0m\u001b[0m\n\u001b[0m\u001b[1;32m    198\u001b[0m         \u001b[0;32mif\u001b[0m \u001b[0mis_valid_contain_train\u001b[0m\u001b[0;34m:\u001b[0m\u001b[0;34m\u001b[0m\u001b[0;34m\u001b[0m\u001b[0m\n\u001b[1;32m    199\u001b[0m             \u001b[0mbooster\u001b[0m\u001b[0;34m.\u001b[0m\u001b[0mset_train_data_name\u001b[0m\u001b[0;34m(\u001b[0m\u001b[0mtrain_data_name\u001b[0m\u001b[0;34m)\u001b[0m\u001b[0;34m\u001b[0m\u001b[0;34m\u001b[0m\u001b[0m\n",
            "\u001b[0;32m/usr/local/lib/python3.6/dist-packages/lightgbm/basic.py\u001b[0m in \u001b[0;36m__init__\u001b[0;34m(self, params, train_set, model_file, silent)\u001b[0m\n\u001b[1;32m   1550\u001b[0m             \u001b[0mself\u001b[0m\u001b[0;34m.\u001b[0m\u001b[0mhandle\u001b[0m \u001b[0;34m=\u001b[0m \u001b[0mctypes\u001b[0m\u001b[0;34m.\u001b[0m\u001b[0mc_void_p\u001b[0m\u001b[0;34m(\u001b[0m\u001b[0;34m)\u001b[0m\u001b[0;34m\u001b[0m\u001b[0;34m\u001b[0m\u001b[0m\n\u001b[1;32m   1551\u001b[0m             _safe_call(_LIB.LGBM_BoosterCreate(\n\u001b[0;32m-> 1552\u001b[0;31m                 \u001b[0mtrain_set\u001b[0m\u001b[0;34m.\u001b[0m\u001b[0mconstruct\u001b[0m\u001b[0;34m(\u001b[0m\u001b[0;34m)\u001b[0m\u001b[0;34m.\u001b[0m\u001b[0mhandle\u001b[0m\u001b[0;34m,\u001b[0m\u001b[0;34m\u001b[0m\u001b[0;34m\u001b[0m\u001b[0m\n\u001b[0m\u001b[1;32m   1553\u001b[0m                 \u001b[0mc_str\u001b[0m\u001b[0;34m(\u001b[0m\u001b[0mparams_str\u001b[0m\u001b[0;34m)\u001b[0m\u001b[0;34m,\u001b[0m\u001b[0;34m\u001b[0m\u001b[0;34m\u001b[0m\u001b[0m\n\u001b[1;32m   1554\u001b[0m                 ctypes.byref(self.handle)))\n",
            "\u001b[0;32m/usr/local/lib/python3.6/dist-packages/lightgbm/basic.py\u001b[0m in \u001b[0;36mconstruct\u001b[0;34m(self)\u001b[0m\n\u001b[1;32m    999\u001b[0m                                 \u001b[0minit_score\u001b[0m\u001b[0;34m=\u001b[0m\u001b[0mself\u001b[0m\u001b[0;34m.\u001b[0m\u001b[0minit_score\u001b[0m\u001b[0;34m,\u001b[0m \u001b[0mpredictor\u001b[0m\u001b[0;34m=\u001b[0m\u001b[0mself\u001b[0m\u001b[0;34m.\u001b[0m\u001b[0m_predictor\u001b[0m\u001b[0;34m,\u001b[0m\u001b[0;34m\u001b[0m\u001b[0;34m\u001b[0m\u001b[0m\n\u001b[1;32m   1000\u001b[0m                                 \u001b[0msilent\u001b[0m\u001b[0;34m=\u001b[0m\u001b[0mself\u001b[0m\u001b[0;34m.\u001b[0m\u001b[0msilent\u001b[0m\u001b[0;34m,\u001b[0m \u001b[0mfeature_name\u001b[0m\u001b[0;34m=\u001b[0m\u001b[0mself\u001b[0m\u001b[0;34m.\u001b[0m\u001b[0mfeature_name\u001b[0m\u001b[0;34m,\u001b[0m\u001b[0;34m\u001b[0m\u001b[0;34m\u001b[0m\u001b[0m\n\u001b[0;32m-> 1001\u001b[0;31m                                 categorical_feature=self.categorical_feature, params=self.params)\n\u001b[0m\u001b[1;32m   1002\u001b[0m             \u001b[0;32mif\u001b[0m \u001b[0mself\u001b[0m\u001b[0;34m.\u001b[0m\u001b[0mfree_raw_data\u001b[0m\u001b[0;34m:\u001b[0m\u001b[0;34m\u001b[0m\u001b[0;34m\u001b[0m\u001b[0m\n\u001b[1;32m   1003\u001b[0m                 \u001b[0mself\u001b[0m\u001b[0;34m.\u001b[0m\u001b[0mdata\u001b[0m \u001b[0;34m=\u001b[0m \u001b[0;32mNone\u001b[0m\u001b[0;34m\u001b[0m\u001b[0;34m\u001b[0m\u001b[0m\n",
            "\u001b[0;32m/usr/local/lib/python3.6/dist-packages/lightgbm/basic.py\u001b[0m in \u001b[0;36m_lazy_init\u001b[0;34m(self, data, label, reference, weight, group, init_score, predictor, silent, feature_name, categorical_feature, params)\u001b[0m\n\u001b[1;32m    801\u001b[0m                 \u001b[0;32mraise\u001b[0m \u001b[0mTypeError\u001b[0m\u001b[0;34m(\u001b[0m\u001b[0;34m'Cannot initialize Dataset from {}'\u001b[0m\u001b[0;34m.\u001b[0m\u001b[0mformat\u001b[0m\u001b[0;34m(\u001b[0m\u001b[0mtype\u001b[0m\u001b[0;34m(\u001b[0m\u001b[0mdata\u001b[0m\u001b[0;34m)\u001b[0m\u001b[0;34m.\u001b[0m\u001b[0m__name__\u001b[0m\u001b[0;34m)\u001b[0m\u001b[0;34m)\u001b[0m\u001b[0;34m\u001b[0m\u001b[0;34m\u001b[0m\u001b[0m\n\u001b[1;32m    802\u001b[0m         \u001b[0;32mif\u001b[0m \u001b[0mlabel\u001b[0m \u001b[0;32mis\u001b[0m \u001b[0;32mnot\u001b[0m \u001b[0;32mNone\u001b[0m\u001b[0;34m:\u001b[0m\u001b[0;34m\u001b[0m\u001b[0;34m\u001b[0m\u001b[0m\n\u001b[0;32m--> 803\u001b[0;31m             \u001b[0mself\u001b[0m\u001b[0;34m.\u001b[0m\u001b[0mset_label\u001b[0m\u001b[0;34m(\u001b[0m\u001b[0mlabel\u001b[0m\u001b[0;34m)\u001b[0m\u001b[0;34m\u001b[0m\u001b[0;34m\u001b[0m\u001b[0m\n\u001b[0m\u001b[1;32m    804\u001b[0m         \u001b[0;32mif\u001b[0m \u001b[0mself\u001b[0m\u001b[0;34m.\u001b[0m\u001b[0mget_label\u001b[0m\u001b[0;34m(\u001b[0m\u001b[0;34m)\u001b[0m \u001b[0;32mis\u001b[0m \u001b[0;32mNone\u001b[0m\u001b[0;34m:\u001b[0m\u001b[0;34m\u001b[0m\u001b[0;34m\u001b[0m\u001b[0m\n\u001b[1;32m    805\u001b[0m             \u001b[0;32mraise\u001b[0m \u001b[0mValueError\u001b[0m\u001b[0;34m(\u001b[0m\u001b[0;34m\"Label should not be None\"\u001b[0m\u001b[0;34m)\u001b[0m\u001b[0;34m\u001b[0m\u001b[0;34m\u001b[0m\u001b[0m\n",
            "\u001b[0;32m/usr/local/lib/python3.6/dist-packages/lightgbm/basic.py\u001b[0m in \u001b[0;36mset_label\u001b[0;34m(self, label)\u001b[0m\n\u001b[1;32m   1296\u001b[0m         \u001b[0mself\u001b[0m\u001b[0;34m.\u001b[0m\u001b[0mlabel\u001b[0m \u001b[0;34m=\u001b[0m \u001b[0mlabel\u001b[0m\u001b[0;34m\u001b[0m\u001b[0;34m\u001b[0m\u001b[0m\n\u001b[1;32m   1297\u001b[0m         \u001b[0;32mif\u001b[0m \u001b[0mself\u001b[0m\u001b[0;34m.\u001b[0m\u001b[0mhandle\u001b[0m \u001b[0;32mis\u001b[0m \u001b[0;32mnot\u001b[0m \u001b[0;32mNone\u001b[0m\u001b[0;34m:\u001b[0m\u001b[0;34m\u001b[0m\u001b[0;34m\u001b[0m\u001b[0m\n\u001b[0;32m-> 1298\u001b[0;31m             \u001b[0mlabel\u001b[0m \u001b[0;34m=\u001b[0m \u001b[0mlist_to_1d_numpy\u001b[0m\u001b[0;34m(\u001b[0m\u001b[0m_label_from_pandas\u001b[0m\u001b[0;34m(\u001b[0m\u001b[0mlabel\u001b[0m\u001b[0;34m)\u001b[0m\u001b[0;34m,\u001b[0m \u001b[0mname\u001b[0m\u001b[0;34m=\u001b[0m\u001b[0;34m'label'\u001b[0m\u001b[0;34m)\u001b[0m\u001b[0;34m\u001b[0m\u001b[0;34m\u001b[0m\u001b[0m\n\u001b[0m\u001b[1;32m   1299\u001b[0m             \u001b[0mself\u001b[0m\u001b[0;34m.\u001b[0m\u001b[0mset_field\u001b[0m\u001b[0;34m(\u001b[0m\u001b[0;34m'label'\u001b[0m\u001b[0;34m,\u001b[0m \u001b[0mlabel\u001b[0m\u001b[0;34m)\u001b[0m\u001b[0;34m\u001b[0m\u001b[0;34m\u001b[0m\u001b[0m\n\u001b[1;32m   1300\u001b[0m         \u001b[0;32mreturn\u001b[0m \u001b[0mself\u001b[0m\u001b[0;34m\u001b[0m\u001b[0;34m\u001b[0m\u001b[0m\n",
            "\u001b[0;32m/usr/local/lib/python3.6/dist-packages/lightgbm/basic.py\u001b[0m in \u001b[0;36mlist_to_1d_numpy\u001b[0;34m(data, dtype, name)\u001b[0m\n\u001b[1;32m     78\u001b[0m         \u001b[0;32mreturn\u001b[0m \u001b[0mnp\u001b[0m\u001b[0;34m.\u001b[0m\u001b[0marray\u001b[0m\u001b[0;34m(\u001b[0m\u001b[0mdata\u001b[0m\u001b[0;34m,\u001b[0m \u001b[0mdtype\u001b[0m\u001b[0;34m=\u001b[0m\u001b[0mdtype\u001b[0m\u001b[0;34m,\u001b[0m \u001b[0mcopy\u001b[0m\u001b[0;34m=\u001b[0m\u001b[0;32mFalse\u001b[0m\u001b[0;34m)\u001b[0m\u001b[0;34m\u001b[0m\u001b[0;34m\u001b[0m\u001b[0m\n\u001b[1;32m     79\u001b[0m     \u001b[0;32melif\u001b[0m \u001b[0misinstance\u001b[0m\u001b[0;34m(\u001b[0m\u001b[0mdata\u001b[0m\u001b[0;34m,\u001b[0m \u001b[0mSeries\u001b[0m\u001b[0;34m)\u001b[0m\u001b[0;34m:\u001b[0m\u001b[0;34m\u001b[0m\u001b[0;34m\u001b[0m\u001b[0m\n\u001b[0;32m---> 80\u001b[0;31m         \u001b[0;32mreturn\u001b[0m \u001b[0mdata\u001b[0m\u001b[0;34m.\u001b[0m\u001b[0mvalues\u001b[0m\u001b[0;34m.\u001b[0m\u001b[0mastype\u001b[0m\u001b[0;34m(\u001b[0m\u001b[0mdtype\u001b[0m\u001b[0;34m)\u001b[0m\u001b[0;34m\u001b[0m\u001b[0;34m\u001b[0m\u001b[0m\n\u001b[0m\u001b[1;32m     81\u001b[0m     \u001b[0;32melse\u001b[0m\u001b[0;34m:\u001b[0m\u001b[0;34m\u001b[0m\u001b[0;34m\u001b[0m\u001b[0m\n\u001b[1;32m     82\u001b[0m         raise TypeError(\"Wrong type({0}) for {1}.\\n\"\n",
            "\u001b[0;31mValueError\u001b[0m: could not convert string to float: 'Class_1500_2000'"
          ]
        }
      ]
    }
  ]
}